{
  "nbformat": 4,
  "nbformat_minor": 0,
  "metadata": {
    "colab": {
      "provenance": [],
      "authorship_tag": "ABX9TyNIDbR/lB5seLpEw2x9/UDd",
      "include_colab_link": true
    },
    "kernelspec": {
      "name": "python3",
      "display_name": "Python 3"
    },
    "language_info": {
      "name": "python"
    }
  },
  "cells": [
    {
      "cell_type": "markdown",
      "metadata": {
        "id": "view-in-github",
        "colab_type": "text"
      },
      "source": [
        "<a href=\"https://colab.research.google.com/github/javeriafiaz/Analysis-of-Bank-Debit-Collection-and-Recovery-Strategies/blob/javeria_technocolabs/Submitted_Week_2_Task.ipynb\" target=\"_parent\"><img src=\"https://colab.research.google.com/assets/colab-badge.svg\" alt=\"Open In Colab\"/></a>"
      ]
    },
    {
      "cell_type": "markdown",
      "source": [
        "# A P2P Lending Market ML Pipeline Using Supervised Machine Learning Algorithms\n",
        "\n",
        "---\n",
        "\n",
        "[Project Github Link](https://github.com/Technocolabs100/A-P2P-Lending-Market-ML-Pipeline-Using-Supervised-Machine-Learning-Algorithms)"
      ],
      "metadata": {
        "id": "8SMCOSR6Ci1U"
      }
    },
    {
      "cell_type": "markdown",
      "source": [
        "# Mounting Colab"
      ],
      "metadata": {
        "id": "B5N3HJ4l-N27"
      }
    },
    {
      "cell_type": "code",
      "source": [
        "from google.colab import drive"
      ],
      "metadata": {
        "id": "csh3cQKR6sEw"
      },
      "execution_count": 2,
      "outputs": []
    },
    {
      "cell_type": "code",
      "source": [
        "drive.mount('/content/drive')"
      ],
      "metadata": {
        "id": "u80esFhS7FsQ"
      },
      "execution_count": null,
      "outputs": []
    },
    {
      "cell_type": "markdown",
      "source": [
        "## Importing Libraries"
      ],
      "metadata": {
        "id": "cvU23h_PDK1h"
      }
    },
    {
      "cell_type": "code",
      "execution_count": 4,
      "metadata": {
        "id": "1CQbxFP31keE"
      },
      "outputs": [],
      "source": [
        "# Import the required libraries\n",
        "\n",
        "import seaborn as sns\n",
        "import numpy as np\n",
        "import pandas as pd\n",
        "from matplotlib import pyplot as plt"
      ]
    },
    {
      "cell_type": "code",
      "source": [
        "pd.set_option('display.max_rows', 1000)\n",
        "pd.set_option('display.max_columns', 81)"
      ],
      "metadata": {
        "id": "3rNRHBkPGPYX"
      },
      "execution_count": 28,
      "outputs": []
    },
    {
      "cell_type": "markdown",
      "source": [
        "# Import File"
      ],
      "metadata": {
        "id": "hQF7QxGsETXb"
      }
    },
    {
      "cell_type": "code",
      "source": [
        "# Import mounted local file\n",
        "path_to_file =  \"/content/drive/MyDrive/Technocolabs Softwares/prosperLoanData.csv\"\n",
        "df_loanData  = pd.read_csv(path_to_file)"
      ],
      "metadata": {
        "id": "7iwqby3l82be"
      },
      "execution_count": 7,
      "outputs": []
    },
    {
      "cell_type": "code",
      "source": [
        "df_loanData.head()"
      ],
      "metadata": {
        "id": "HZ0hpiC_82D7"
      },
      "execution_count": null,
      "outputs": []
    },
    {
      "cell_type": "markdown",
      "source": [
        "# Size of Data"
      ],
      "metadata": {
        "id": "uzEfdeK_PKI3"
      }
    },
    {
      "cell_type": "code",
      "source": [
        "# Summary of the Dataframe\n",
        "print(df_loanData.info())"
      ],
      "metadata": {
        "id": "NjUEJtfRjBQB"
      },
      "execution_count": null,
      "outputs": []
    },
    {
      "cell_type": "code",
      "source": [
        "# Rows\n",
        "df_loanData.shape[0]"
      ],
      "metadata": {
        "id": "Qiu_87j6icgJ"
      },
      "execution_count": null,
      "outputs": []
    },
    {
      "cell_type": "code",
      "source": [
        "# Columns\n",
        "df_loanData.shape[1]"
      ],
      "metadata": {
        "id": "mYazBRjei2YY"
      },
      "execution_count": null,
      "outputs": []
    },
    {
      "cell_type": "markdown",
      "source": [
        "# Check Duplicated"
      ],
      "metadata": {
        "id": "26WZkOkJBG_l"
      }
    },
    {
      "cell_type": "code",
      "source": [
        "# Display count of duplicates in all columns\n",
        "duplicate_count_per_column = {}\n",
        "for column in df_loanData.columns:\n",
        "    duplicate_count = df_loanData[column].duplicated().sum()\n",
        "    duplicate_count_per_column[column] = duplicate_count\n",
        "\n",
        "duplicate_count_per_column"
      ],
      "metadata": {
        "id": "S8u-E2Bp72e3",
        "colab": {
          "base_uri": "https://localhost:8080/",
          "height": 0
        },
        "outputId": "fd2ab592-fb74-4c5b-9a56-c6a7f258396f"
      },
      "execution_count": 10,
      "outputs": [
        {
          "output_type": "execute_result",
          "data": {
            "text/plain": [
              "{'ListingKey': 871,\n",
              " 'ListingNumber': 871,\n",
              " 'ListingCreationDate': 873,\n",
              " 'CreditGrade': 113928,\n",
              " 'Term': 113934,\n",
              " 'LoanStatus': 113925,\n",
              " 'ClosedDate': 111134,\n",
              " 'BorrowerAPR': 107259,\n",
              " 'BorrowerRate': 111643,\n",
              " 'LenderYield': 111654,\n",
              " 'EstimatedEffectiveYield': 112354,\n",
              " 'EstimatedLoss': 113816,\n",
              " 'EstimatedReturn': 112460,\n",
              " 'ProsperRating (numeric)': 113929,\n",
              " 'ProsperRating (Alpha)': 113929,\n",
              " 'ProsperScore': 113925,\n",
              " 'ListingCategory (numeric)': 113916,\n",
              " 'BorrowerState': 113885,\n",
              " 'Occupation': 113869,\n",
              " 'EmploymentStatus': 113928,\n",
              " 'EmploymentStatusDuration': 113331,\n",
              " 'IsBorrowerHomeowner': 113935,\n",
              " 'CurrentlyInGroup': 113935,\n",
              " 'GroupKey': 113230,\n",
              " 'DateCreditPulled': 945,\n",
              " 'CreditScoreRangeLower': 113910,\n",
              " 'CreditScoreRangeUpper': 113910,\n",
              " 'FirstRecordedCreditLine': 102351,\n",
              " 'CurrentCreditLines': 113882,\n",
              " 'OpenCreditLines': 113884,\n",
              " 'TotalCreditLinespast7years': 113818,\n",
              " 'OpenRevolvingAccounts': 113889,\n",
              " 'OpenRevolvingMonthlyPayment': 111103,\n",
              " 'InquiriesLast6Months': 113886,\n",
              " 'TotalInquiries': 113834,\n",
              " 'CurrentDelinquencies': 113889,\n",
              " 'AmountDelinquent': 106877,\n",
              " 'DelinquenciesLast7Years': 113836,\n",
              " 'PublicRecordsLast10Years': 113911,\n",
              " 'PublicRecordsLast12Months': 113929,\n",
              " 'RevolvingCreditBalance': 75381,\n",
              " 'BankcardUtilization': 113735,\n",
              " 'AvailableBankcardCredit': 82107,\n",
              " 'TotalTrades': 113828,\n",
              " 'TradesNeverDelinquent (percentage)': 113838,\n",
              " 'TradesOpenedLast6Months': 113917,\n",
              " 'DebtToIncomeRatio': 112729,\n",
              " 'IncomeRange': 113929,\n",
              " 'IncomeVerifiable': 113935,\n",
              " 'StatedMonthlyIncome': 100435,\n",
              " 'LoanKey': 871,\n",
              " 'TotalProsperLoans': 113927,\n",
              " 'TotalProsperPaymentsBilled': 113806,\n",
              " 'OnTimeProsperPayments': 113809,\n",
              " 'ProsperPaymentsLessThanOneMonthLate': 113895,\n",
              " 'ProsperPaymentsOneMonthPlusLate': 113919,\n",
              " 'ProsperPrincipalBorrowed': 112494,\n",
              " 'ProsperPrincipalOutstanding': 100061,\n",
              " 'ScorexChangeAtTimeOfListing': 113564,\n",
              " 'LoanCurrentDaysDelinquent': 111526,\n",
              " 'LoanFirstDefaultedCycleNumber': 113893,\n",
              " 'LoanMonthsSinceOrigination': 113843,\n",
              " 'LoanNumber': 871,\n",
              " 'LoanOriginalAmount': 111469,\n",
              " 'LoanOriginationDate': 112064,\n",
              " 'LoanOriginationQuarter': 113904,\n",
              " 'MemberKey': 23106,\n",
              " 'MonthlyLoanPayment': 90370,\n",
              " 'LP_CustomerPayments': 35414,\n",
              " 'LP_CustomerPrincipalPayments': 64109,\n",
              " 'LP_InterestandFees': 35186,\n",
              " 'LP_ServiceFees': 94124,\n",
              " 'LP_CollectionFees': 107762,\n",
              " 'LP_GrossPrincipalLoss': 98089,\n",
              " 'LP_NetPrincipalLoss': 98228,\n",
              " 'LP_NonPrincipalRecoverypayments': 111306,\n",
              " 'PercentFunded': 113218,\n",
              " 'Recommendations': 113920,\n",
              " 'InvestmentFromFriendsCount': 113923,\n",
              " 'InvestmentFromFriendsAmount': 113211,\n",
              " 'Investors': 113186}"
            ]
          },
          "metadata": {},
          "execution_count": 10
        }
      ]
    },
    {
      "cell_type": "code",
      "source": [
        "# shows sum of duplicate ListingKey\n",
        "df_loanData[df_loanData['ListingKey'].duplicated()].shape[0]"
      ],
      "metadata": {
        "id": "OnUC97HX589p"
      },
      "execution_count": null,
      "outputs": []
    },
    {
      "cell_type": "markdown",
      "source": [
        "# Check Null"
      ],
      "metadata": {
        "id": "gV19-3R1NBxW"
      }
    },
    {
      "cell_type": "markdown",
      "source": [
        "Method 1:"
      ],
      "metadata": {
        "id": "SaYT5APMsEg8"
      }
    },
    {
      "cell_type": "code",
      "source": [
        "null_count = df_loanData.isnull().sum()\n",
        "null_count"
      ],
      "metadata": {
        "id": "WOZ3j5qONHmQ"
      },
      "execution_count": null,
      "outputs": []
    },
    {
      "cell_type": "markdown",
      "source": [
        "Method 2:"
      ],
      "metadata": {
        "id": "fHpfU2qRsJeQ"
      }
    },
    {
      "cell_type": "code",
      "source": [
        "null_count = df_loanData.isnull().sum()\n",
        "\n",
        "# Iterate through the columns and print the null count for each one\n",
        "for column, count in null_count.items():\n",
        "    print(f\"Column '{column}' : {count} null values.\")\n"
      ],
      "metadata": {
        "id": "A3bR-3_Vqnhf"
      },
      "execution_count": null,
      "outputs": []
    },
    {
      "cell_type": "markdown",
      "source": [
        "# Count of ListingKey > 2"
      ],
      "metadata": {
        "id": "CVW_JdONkfpQ"
      }
    },
    {
      "cell_type": "markdown",
      "source": [
        "Method 1"
      ],
      "metadata": {
        "id": "TkFsaF2Gx1a6"
      }
    },
    {
      "cell_type": "code",
      "source": [
        "filtered_data = df_loanData[df_loanData.duplicated(subset='ListingKey', keep=False)]\n",
        "print(filtered_data)"
      ],
      "metadata": {
        "id": "zBf8bUFtkudC"
      },
      "execution_count": null,
      "outputs": []
    },
    {
      "cell_type": "markdown",
      "source": [
        "Method 2"
      ],
      "metadata": {
        "id": "-PE6_85Zx3BO"
      }
    },
    {
      "cell_type": "code",
      "source": [
        "duplicated_values = df_loanData['ListingKey'].value_counts()[df_loanData['ListingKey'].value_counts() >= 2].index\n",
        "print(duplicated_values)"
      ],
      "metadata": {
        "id": "l5Q-7zj_uF_0"
      },
      "execution_count": null,
      "outputs": []
    },
    {
      "cell_type": "markdown",
      "source": [
        "# Fill missing values NaN"
      ],
      "metadata": {
        "id": "hExOBa75yhFR"
      }
    },
    {
      "cell_type": "code",
      "source": [
        "df_loanData.fillna('NaN', inplace=True)\n",
        "print(df_loanData)\n"
      ],
      "metadata": {
        "id": "13c7LGsDyhvx"
      },
      "execution_count": null,
      "outputs": []
    },
    {
      "cell_type": "markdown",
      "source": [
        "# Remove Duplicate ListingKey"
      ],
      "metadata": {
        "id": "D29v9l_ZEjOh"
      }
    },
    {
      "cell_type": "code",
      "source": [
        "df_loanData.drop_duplicates(subset = 'ListingKey', inplace = True)"
      ],
      "metadata": {
        "id": "PiG9l1_pEkJx"
      },
      "execution_count": 22,
      "outputs": []
    },
    {
      "cell_type": "code",
      "source": [
        "# Confirm. You will get False\n",
        "df_loanData.ListingKey.duplicated().any()"
      ],
      "metadata": {
        "id": "MM6N1AnJF85h",
        "colab": {
          "base_uri": "https://localhost:8080/",
          "height": 0
        },
        "outputId": "aeb69042-9612-4f46-811e-943f4c0a5a50"
      },
      "execution_count": 24,
      "outputs": [
        {
          "output_type": "execute_result",
          "data": {
            "text/plain": [
              "False"
            ]
          },
          "metadata": {},
          "execution_count": 24
        }
      ]
    },
    {
      "cell_type": "markdown",
      "source": [
        "# Outliers"
      ],
      "metadata": {
        "id": "HP0OwlHGHRoC"
      }
    },
    {
      "cell_type": "code",
      "source": [
        "plt.figure(figsize=(6, 4))\n",
        "plt.boxplot(df_loanData['BorrowerRate'], vert=False)\n",
        "plt.title('Box Plot of Borrower Rate')\n",
        "plt.show()"
      ],
      "metadata": {
        "colab": {
          "base_uri": "https://localhost:8080/",
          "height": 391
        },
        "id": "fpwaIWUaHSIz",
        "outputId": "5af532a8-71c7-4d96-cc3c-41b1d88f6e32"
      },
      "execution_count": null,
      "outputs": [
        {
          "output_type": "display_data",
          "data": {
            "text/plain": [
              "<Figure size 600x400 with 1 Axes>"
            ],
            "image/png": "[encoded data removed]"
          },
          "metadata": {}
        }
      ]
    },
    {
      "cell_type": "code",
      "source": [
        "# Create a box plot using Seaborn\n",
        "plt.figure(figsize=(6, 4))\n",
        "sns.boxplot(x='LoanOriginalAmount', data=df_loanData, orient='h', color='lightblue')\n",
        "plt.title('Box Plot of Loan Amount')\n",
        "plt.show()\n"
      ],
      "metadata": {
        "colab": {
          "base_uri": "https://localhost:8080/",
          "height": 410
        },
        "id": "ZTQLajWnMshG",
        "outputId": "923285c4-46eb-4630-f709-dd4deae7780c"
      },
      "execution_count": null,
      "outputs": [
        {
          "output_type": "display_data",
          "data": {
            "text/plain": [
              "<Figure size 600x400 with 1 Axes>"
            ],
            "image/png": "[encoded data removed]"
          },
          "metadata": {}
        }
      ]
    },
    {
      "cell_type": "markdown",
      "source": [
        "# Mapping and Rename"
      ],
      "metadata": {
        "id": "v1FYGRvJUg2f"
      }
    },
    {
      "cell_type": "markdown",
      "source": [
        "ListingCategory"
      ],
      "metadata": {
        "id": "0FLrwnPwcVVS"
      }
    },
    {
      "cell_type": "code",
      "source": [
        "df_loanData = df_loanData.rename(columns={'ListingCategory (numeric)': 'ListingCategory'})"
      ],
      "metadata": {
        "id": "zDo6VB3AYQfr"
      },
      "execution_count": 25,
      "outputs": []
    },
    {
      "cell_type": "code",
      "source": [
        "category_mapping = {\n",
        "    0: 'Not Available',\n",
        "    1: 'Debt Consolidation',\n",
        "    2: 'Home Improvement',\n",
        "    3: 'Business',\n",
        "    4: 'Personal Loan',\n",
        "    5: 'Student Use',\n",
        "    6: 'Auto',\n",
        "    7: 'Other',\n",
        "    8: 'Baby&Adoption',\n",
        "    9: 'Boat',\n",
        "    10: 'Cosmetic Procedure',\n",
        "    11: 'Engagement Ring',\n",
        "    12: 'Green Loans',\n",
        "    13: 'Household Expenses',\n",
        "    14: 'Large Purchases',\n",
        "    15: 'Medical/Dental',\n",
        "    16: 'Motorcycle',\n",
        "    17: 'RV',\n",
        "    18: 'Taxes',\n",
        "    19: 'Vacation',\n",
        "    20: 'Wedding Loans',\n",
        "    }\n",
        "df_loanData['ListingCategory'] = df_loanData['ListingCategory'].map(category_mapping)\n",
        "print(df_loanData)"
      ],
      "metadata": {
        "id": "j5EuBl-IQn6A"
      },
      "execution_count": null,
      "outputs": []
    },
    {
      "cell_type": "code",
      "source": [
        "df_loanData"
      ],
      "metadata": {
        "id": "WL-HvBE4sqeT"
      },
      "execution_count": null,
      "outputs": []
    },
    {
      "cell_type": "markdown",
      "source": [
        "LoanStatus"
      ],
      "metadata": {
        "id": "G3R0dNd7ccUs"
      }
    },
    {
      "cell_type": "code",
      "source": [
        "loanstatus_mapping = {\n",
        "    'Past Due (1-15 days)': 'Past Due',\n",
        "    'Past Due (16-30 days)': 'Past Due',\n",
        "    'Past Due (31-60 days)': 'Past Due',\n",
        "    'Past Due (61-90 days)': 'Past Due',\n",
        "    'Past Due (91-120 days)': 'Past Due',\n",
        "    'Past Due (>120 days)': 'Past Due',\n",
        "            }\n",
        "df_loanData['LoanStatus'] = df_loanData['LoanStatus'].replace(loanstatus_mapping)\n",
        "print(df_loanData)\n"
      ],
      "metadata": {
        "id": "DyGY9loest1r"
      },
      "execution_count": null,
      "outputs": []
    },
    {
      "cell_type": "code",
      "source": [
        "df_loanData.LoanStatus.unique()"
      ],
      "metadata": {
        "id": "OD6QW8PXcGet"
      },
      "execution_count": null,
      "outputs": []
    },
    {
      "cell_type": "markdown",
      "source": [
        "# Data Encoding"
      ],
      "metadata": {
        "id": "C-nIveruQft4"
      }
    },
    {
      "cell_type": "code",
      "source": [
        "pip install category_encoders"
      ],
      "metadata": {
        "id": "qkIoVd82PmsJ"
      },
      "execution_count": null,
      "outputs": []
    },
    {
      "cell_type": "code",
      "source": [
        "import category_encoders as ce"
      ],
      "metadata": {
        "id": "8VBTtMYtViJu"
      },
      "execution_count": 34,
      "outputs": []
    },
    {
      "cell_type": "code",
      "source": [
        "df_loanData.LoanStatus.unique()"
      ],
      "metadata": {
        "id": "ciJNtsM5VrG_"
      },
      "execution_count": null,
      "outputs": []
    },
    {
      "cell_type": "code",
      "source": [
        "# Create an instance of BinaryEncoder for the 'LoanStatus' column\n",
        "encoder = ce.BinaryEncoder(cols=['LoanStatus'])"
      ],
      "metadata": {
        "id": "CBhtCVoBVrl8"
      },
      "execution_count": 36,
      "outputs": []
    },
    {
      "cell_type": "code",
      "source": [
        "encoder"
      ],
      "metadata": {
        "id": "e8wLUQWNeOi7"
      },
      "execution_count": null,
      "outputs": []
    },
    {
      "cell_type": "code",
      "source": [
        "# Fit and transform the DataFrame to perform binary encoding\n",
        "df_encoded = encoder.fit_transform(df_loanData)\n",
        "df_encoded\n"
      ],
      "metadata": {
        "id": "5_X5t93-eZDW"
      },
      "execution_count": null,
      "outputs": []
    },
    {
      "cell_type": "code",
      "source": [
        "encoder"
      ],
      "metadata": {
        "id": "T1zeqv3_eeNa"
      },
      "execution_count": null,
      "outputs": []
    },
    {
      "cell_type": "markdown",
      "source": [
        "# Data Labeling"
      ],
      "metadata": {
        "id": "oaXw_5ckfFCY"
      }
    },
    {
      "cell_type": "code",
      "source": [
        "# Score must be 1-10\n",
        "df_loanData.ProsperScore.unique()"
      ],
      "metadata": {
        "id": "N7YQ-c73gxzc"
      },
      "execution_count": null,
      "outputs": []
    },
    {
      "cell_type": "code",
      "source": [
        "# 11 occurs 1431 times\n",
        "df_loanData['ProsperScore'].value_counts()"
      ],
      "metadata": {
        "id": "fQDHbRU0Hr1c"
      },
      "execution_count": null,
      "outputs": []
    },
    {
      "cell_type": "code",
      "source": [
        "# Calculate the median of non-outlier values (excluding 11)\n",
        "median_score = df_loanData['ProsperScore'][df_loanData['ProsperScore'] != 11].median()\n",
        "median_score"
      ],
      "metadata": {
        "id": "6EjmzL0olyVD"
      },
      "execution_count": null,
      "outputs": []
    },
    {
      "cell_type": "markdown",
      "source": [
        "Replace 11 with median value"
      ],
      "metadata": {
        "id": "MFo7RwMzpcpP"
      }
    },
    {
      "cell_type": "code",
      "source": [
        "# Replace the value \"11\" with the calculated median\n",
        "df_loanData['ProsperScore'] = df_loanData['ProsperScore'].replace(11, median_score)"
      ],
      "metadata": {
        "id": "avx1gB5hnloe"
      },
      "execution_count": 47,
      "outputs": []
    },
    {
      "cell_type": "code",
      "source": [
        "df_loanData.ProsperScore.unique()"
      ],
      "metadata": {
        "id": "BC4jdkajoD_d"
      },
      "execution_count": null,
      "outputs": []
    },
    {
      "cell_type": "markdown",
      "source": [
        "11 is replaced by median value"
      ],
      "metadata": {
        "id": "_izfFRSupiOQ"
      }
    },
    {
      "cell_type": "code",
      "source": [
        "df_loanData['ProsperScore'].value_counts()"
      ],
      "metadata": {
        "id": "6mMZcqJrrzwM"
      },
      "execution_count": null,
      "outputs": []
    },
    {
      "cell_type": "markdown",
      "source": [
        "Round object data type to int"
      ],
      "metadata": {
        "id": "zSg5iJtELB7g"
      }
    },
    {
      "cell_type": "code",
      "source": [
        "df_loanData['ProsperScore'] = df_loanData['ProsperScore'].apply(lambda x: round(x) if not pd.isna(x) else x)"
      ],
      "metadata": {
        "id": "uPUc870qK7A1"
      },
      "execution_count": 66,
      "outputs": []
    },
    {
      "cell_type": "markdown",
      "source": [
        "### Labelling"
      ],
      "metadata": {
        "id": "kZJ48pBZMqOp"
      }
    },
    {
      "cell_type": "code",
      "source": [
        "bins = [0.0, 3.0, 6.0, 8.0, 10.0]\n",
        "labels = ['Very High Risk', 'High Risk', 'Moderate Risk', 'Low Risk']\n",
        "\n",
        "df_loanData['ProsperScore_Label'] = pd.cut(df_loanData['ProsperScore'], bins=bins, labels=labels, include_lowest=True, right=False)\n",
        "\n",
        "# .cat.add_categories() add the 'Not Available' label to the category set,\n",
        "# and then we fill NaN values with 'Not Available'.\n",
        "\n",
        "df_loanData['ProsperScore_Label'] = df_loanData['ProsperScore_Label'].cat.add_categories('Not Available')\n",
        "df_loanData['ProsperScore_Label'].fillna('Not Available', inplace=True)\n",
        "\n",
        "print(df_loanData)\n"
      ],
      "metadata": {
        "id": "3LkN3UiF7joT"
      },
      "execution_count": null,
      "outputs": []
    },
    {
      "cell_type": "code",
      "source": [
        "df_loanData.ProsperScore_Label.unique()"
      ],
      "metadata": {
        "id": "jXAuPy1B8i44"
      },
      "execution_count": null,
      "outputs": []
    },
    {
      "cell_type": "code",
      "source": [
        "df_loanData"
      ],
      "metadata": {
        "id": "P5b_lhR58u1m"
      },
      "execution_count": null,
      "outputs": []
    }
  ]
}