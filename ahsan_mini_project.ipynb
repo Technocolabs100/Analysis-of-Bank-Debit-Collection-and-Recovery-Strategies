{
 "cells": [
  {
   "cell_type": "code",
   "execution_count": 1,
   "id": "edd02bc9",
   "metadata": {},
   "outputs": [],
   "source": [
    "import numpy as np\n",
    "import pandas as pd\n",
    "import matplotlib.pyplot as plt\n",
    "import seaborn as sns"
   ]
  },
  {
   "cell_type": "code",
   "execution_count": 2,
   "id": "d06e1e6f",
   "metadata": {},
   "outputs": [],
   "source": [
    "data = pd.read_csv(\"D:/Technocolab/bank_data.csv\")"
   ]
  },
  {
   "cell_type": "code",
   "execution_count": 3,
   "id": "ccd593e2",
   "metadata": {},
   "outputs": [
    {
     "data": {
      "text/html": [
       "<div>\n",
       "<style scoped>\n",
       "    .dataframe tbody tr th:only-of-type {\n",
       "        vertical-align: middle;\n",
       "    }\n",
       "\n",
       "    .dataframe tbody tr th {\n",
       "        vertical-align: top;\n",
       "    }\n",
       "\n",
       "    .dataframe thead th {\n",
       "        text-align: right;\n",
       "    }\n",
       "</style>\n",
       "<table border=\"1\" class=\"dataframe\">\n",
       "  <thead>\n",
       "    <tr style=\"text-align: right;\">\n",
       "      <th></th>\n",
       "      <th>id</th>\n",
       "      <th>expected_recovery_amount</th>\n",
       "      <th>actual_recovery_amount</th>\n",
       "      <th>recovery_strategy</th>\n",
       "      <th>age</th>\n",
       "      <th>sex</th>\n",
       "    </tr>\n",
       "  </thead>\n",
       "  <tbody>\n",
       "    <tr>\n",
       "      <th>0</th>\n",
       "      <td>2030</td>\n",
       "      <td>194</td>\n",
       "      <td>263.540</td>\n",
       "      <td>Level 0 Recovery</td>\n",
       "      <td>19</td>\n",
       "      <td>Male</td>\n",
       "    </tr>\n",
       "    <tr>\n",
       "      <th>1</th>\n",
       "      <td>1150</td>\n",
       "      <td>486</td>\n",
       "      <td>416.090</td>\n",
       "      <td>Level 0 Recovery</td>\n",
       "      <td>25</td>\n",
       "      <td>Female</td>\n",
       "    </tr>\n",
       "    <tr>\n",
       "      <th>2</th>\n",
       "      <td>380</td>\n",
       "      <td>527</td>\n",
       "      <td>429.350</td>\n",
       "      <td>Level 0 Recovery</td>\n",
       "      <td>27</td>\n",
       "      <td>Male</td>\n",
       "    </tr>\n",
       "    <tr>\n",
       "      <th>3</th>\n",
       "      <td>1838</td>\n",
       "      <td>536</td>\n",
       "      <td>296.990</td>\n",
       "      <td>Level 0 Recovery</td>\n",
       "      <td>25</td>\n",
       "      <td>Male</td>\n",
       "    </tr>\n",
       "    <tr>\n",
       "      <th>4</th>\n",
       "      <td>1995</td>\n",
       "      <td>541</td>\n",
       "      <td>346.385</td>\n",
       "      <td>Level 0 Recovery</td>\n",
       "      <td>34</td>\n",
       "      <td>Male</td>\n",
       "    </tr>\n",
       "  </tbody>\n",
       "</table>\n",
       "</div>"
      ],
      "text/plain": [
       "     id  expected_recovery_amount  actual_recovery_amount recovery_strategy  \\\n",
       "0  2030                       194                 263.540  Level 0 Recovery   \n",
       "1  1150                       486                 416.090  Level 0 Recovery   \n",
       "2   380                       527                 429.350  Level 0 Recovery   \n",
       "3  1838                       536                 296.990  Level 0 Recovery   \n",
       "4  1995                       541                 346.385  Level 0 Recovery   \n",
       "\n",
       "   age     sex  \n",
       "0   19    Male  \n",
       "1   25  Female  \n",
       "2   27    Male  \n",
       "3   25    Male  \n",
       "4   34    Male  "
      ]
     },
     "execution_count": 3,
     "metadata": {},
     "output_type": "execute_result"
    }
   ],
   "source": [
    "data.head()"
   ]
  },
  {
   "cell_type": "code",
   "execution_count": 4,
   "id": "2c584f2e",
   "metadata": {},
   "outputs": [
    {
     "name": "stdout",
     "output_type": "stream",
     "text": [
      "<class 'pandas.core.frame.DataFrame'>\n",
      "RangeIndex: 1882 entries, 0 to 1881\n",
      "Data columns (total 6 columns):\n",
      " #   Column                    Non-Null Count  Dtype  \n",
      "---  ------                    --------------  -----  \n",
      " 0   id                        1882 non-null   int64  \n",
      " 1   expected_recovery_amount  1882 non-null   int64  \n",
      " 2   actual_recovery_amount    1882 non-null   float64\n",
      " 3   recovery_strategy         1882 non-null   object \n",
      " 4   age                       1882 non-null   int64  \n",
      " 5   sex                       1882 non-null   object \n",
      "dtypes: float64(1), int64(3), object(2)\n",
      "memory usage: 88.3+ KB\n"
     ]
    }
   ],
   "source": [
    "data.info()"
   ]
  },
  {
   "cell_type": "code",
   "execution_count": 5,
   "id": "9dc312e6",
   "metadata": {},
   "outputs": [
    {
     "data": {
      "text/plain": [
       "Level 1 Recovery    670\n",
       "Level 3 Recovery    368\n",
       "Level 2 Recovery    333\n",
       "Level 4 Recovery    264\n",
       "Level 0 Recovery    247\n",
       "Name: recovery_strategy, dtype: int64"
      ]
     },
     "execution_count": 5,
     "metadata": {},
     "output_type": "execute_result"
    }
   ],
   "source": [
    "data.recovery_strategy.value_counts()"
   ]
  },
  {
   "cell_type": "code",
   "execution_count": 6,
   "id": "eaba47d8",
   "metadata": {},
   "outputs": [
    {
     "data": {
      "text/plain": [
       "0"
      ]
     },
     "execution_count": 6,
     "metadata": {},
     "output_type": "execute_result"
    }
   ],
   "source": [
    "data.duplicated().sum()"
   ]
  },
  {
   "cell_type": "markdown",
   "id": "8f4f6f37",
   "metadata": {},
   "source": [
    "## Exploratory Data Analysis"
   ]
  },
  {
   "cell_type": "markdown",
   "id": "03252320",
   "metadata": {},
   "source": [
    "We will conduct some Exploratory Data Analysis (EDA) to gain deeper insights and form a better understanding of the data. This will guide our future analysis and decision-making process."
   ]
  },
  {
   "cell_type": "code",
   "execution_count": 7,
   "id": "8e59b6d9",
   "metadata": {},
   "outputs": [
    {
     "data": {
      "text/plain": [
       "1386    5\n",
       "1481    4\n",
       "1634    4\n",
       "1168    4\n",
       "1120    4\n",
       "       ..\n",
       "1893    1\n",
       "1886    1\n",
       "1879    1\n",
       "1878    1\n",
       "9964    1\n",
       "Name: expected_recovery_amount, Length: 1529, dtype: int64"
      ]
     },
     "execution_count": 7,
     "metadata": {},
     "output_type": "execute_result"
    }
   ],
   "source": [
    "# data.info()\n",
    "data['expected_recovery_amount'].value_counts()"
   ]
  },
  {
   "cell_type": "code",
   "execution_count": 8,
   "id": "008fe19a",
   "metadata": {},
   "outputs": [
    {
     "data": {
      "image/png": "[encoded data removed]",
      "text/plain": [
       "<Figure size 640x480 with 1 Axes>"
      ]
     },
     "metadata": {},
     "output_type": "display_data"
    }
   ],
   "source": [
    "# Creating a Countplot of \"recovery strategy\" categorized by gender.\n",
    "sns.set(style=\"whitegrid\")\n",
    "sns.countplot(data= data, x= 'recovery_strategy', hue= 'sex')\n",
    "plt.title('Distribution of Recovery Strategies by Gender')\n",
    "plt.xticks(rotation= 45)\n",
    "plt.show()"
   ]
  },
  {
   "cell_type": "markdown",
   "id": "48a75b36",
   "metadata": {},
   "source": [
    "There is an almost equal proportion of male and female defaulters across all recovery levels, with males constituting a larger portion of the defaulting population."
   ]
  },
  {
   "cell_type": "code",
   "execution_count": 9,
   "id": "fcf50d66",
   "metadata": {},
   "outputs": [
    {
     "data": {
      "image/png": "[encoded data removed]",
      "text/plain": [
       "<Figure size 640x480 with 1 Axes>"
      ]
     },
     "metadata": {},
     "output_type": "display_data"
    }
   ],
   "source": [
    "# Creating a histplot of \"Expected_recovery_amount\"\n",
    "sns.set(style=\"whitegrid\")\n",
    "# sns.displot(data['expected_recovery_amount'])\n",
    "sns.histplot(data['expected_recovery_amount'], bins=range(0, max(data['expected_recovery_amount']) + 1000, 1000))\n",
    "plt.show()"
   ]
  },
  {
   "cell_type": "markdown",
   "id": "44270bab",
   "metadata": {},
   "source": [
    "The majority of defaulters, nearly 700 of them, fall under level one recovery, followed by level three recovery defaulters."
   ]
  },
  {
   "cell_type": "markdown",
   "id": "82780b7c",
   "metadata": {},
   "source": [
    "## Statistical test: Age vs. Expected Recovery Amount\n",
    "We aim to ensure that variables like age and sex exhibit similar characteristics both above and below the $1000 Expected Recovery Amount threshold. This is crucial, as we need to establish that any disparities in the actual recovery amount are attributed to the higher Recovery Strategy and not influenced by factors such as age or sex.\n",
    "\n",
    "Upon inspecting the scatter plot of age against Expected Recovery Amount, there was no evident discontinuity observed around 1000 dollars. To delve deeper, we will conduct a statistical analysis to compare the average age of customers just above and below this threshold. Our investigation will begin within the range of 900 to 1100 dollars.\n",
    "\n",
    "To assess potential differences in ages around the threshold, we will employ the Kruskal-Wallis test. This statistical test is advantageous for not making any specific assumptions about the distribution of data."
   ]
  },
  {
   "cell_type": "code",
   "execution_count": 10,
   "id": "3fe18736",
   "metadata": {},
   "outputs": [
    {
     "data": {
      "image/png": "[encoded data removed]",
      "text/plain": [
       "<Figure size 640x480 with 1 Axes>"
      ]
     },
     "metadata": {},
     "output_type": "display_data"
    }
   ],
   "source": [
    "# Creating a scatterplot for Age Vs. Expected Recovery Amount\n",
    "sns.scatterplot(x= data['expected_recovery_amount'], y = data['age'], marker = 'o', alpha = 0.7, color = 'blue')\n",
    "plt.axvline(x= 1000, color ='red', linestyle = '--', label = 'Threshold $1000')\n",
    "plt.xlabel('Expected Recovery Amount')\n",
    "plt.ylabel('Age')\n",
    "plt.title('Scatter Plot of Age vs Expected Recovery Amount', fontsize=16)\n",
    "plt.xlim(0, 2000)\n",
    "plt.ylim(0, 60)\n",
    "plt.show()"
   ]
  },
  {
   "cell_type": "code",
   "execution_count": 11,
   "id": "18ba09d8",
   "metadata": {},
   "outputs": [
    {
     "data": {
      "text/plain": [
       "       recovery_strategy\n",
       "count  Level 0 Recovery     89.000000\n",
       "       Level 1 Recovery     94.000000\n",
       "mean   Level 0 Recovery     27.224719\n",
       "       Level 1 Recovery     28.755319\n",
       "std    Level 0 Recovery      6.399135\n",
       "       Level 1 Recovery      5.859807\n",
       "min    Level 0 Recovery     18.000000\n",
       "       Level 1 Recovery     18.000000\n",
       "25%    Level 0 Recovery     23.000000\n",
       "       Level 1 Recovery     24.000000\n",
       "50%    Level 0 Recovery     26.000000\n",
       "       Level 1 Recovery     29.000000\n",
       "75%    Level 0 Recovery     31.000000\n",
       "       Level 1 Recovery     33.000000\n",
       "max    Level 0 Recovery     56.000000\n",
       "       Level 1 Recovery     43.000000\n",
       "dtype: float64"
      ]
     },
     "execution_count": 11,
     "metadata": {},
     "output_type": "execute_result"
    }
   ],
   "source": [
    "# Computing the statistics of level 0 and level 1 recovery strategy for age column just above and below the threshold.\n",
    "exp_rec_amt_900_1100 = data.loc[(data['expected_recovery_amount'] <1100) & (data['expected_recovery_amount'] >=900)]\n",
    "exp_rec_amt_900_1100.groupby('recovery_strategy')['age'].describe().unstack()"
   ]
  },
  {
   "cell_type": "code",
   "execution_count": 12,
   "id": "f2e32488",
   "metadata": {},
   "outputs": [
    {
     "data": {
      "text/plain": [
       "       recovery_strategy\n",
       "count  Level 0 Recovery     247.000000\n",
       "       Level 1 Recovery     670.000000\n",
       "       Level 2 Recovery     333.000000\n",
       "       Level 3 Recovery     368.000000\n",
       "       Level 4 Recovery     264.000000\n",
       "mean   Level 0 Recovery      27.627530\n",
       "       Level 1 Recovery      29.773134\n",
       "       Level 2 Recovery      36.828829\n",
       "       Level 3 Recovery      50.445652\n",
       "       Level 4 Recovery      64.477273\n",
       "std    Level 0 Recovery       5.975469\n",
       "       Level 1 Recovery       6.904594\n",
       "       Level 2 Recovery       9.371072\n",
       "       Level 3 Recovery      10.802022\n",
       "       Level 4 Recovery      10.168516\n",
       "min    Level 0 Recovery      18.000000\n",
       "       Level 1 Recovery      18.000000\n",
       "       Level 2 Recovery      18.000000\n",
       "       Level 3 Recovery      23.000000\n",
       "       Level 4 Recovery      33.000000\n",
       "25%    Level 0 Recovery      23.000000\n",
       "       Level 1 Recovery      24.000000\n",
       "       Level 2 Recovery      30.000000\n",
       "       Level 3 Recovery      42.750000\n",
       "       Level 4 Recovery      56.000000\n",
       "50%    Level 0 Recovery      27.000000\n",
       "       Level 1 Recovery      30.000000\n",
       "       Level 2 Recovery      36.000000\n",
       "       Level 3 Recovery      50.000000\n",
       "       Level 4 Recovery      63.000000\n",
       "75%    Level 0 Recovery      32.000000\n",
       "       Level 1 Recovery      34.000000\n",
       "       Level 2 Recovery      43.000000\n",
       "       Level 3 Recovery      58.000000\n",
       "       Level 4 Recovery      72.000000\n",
       "max    Level 0 Recovery      56.000000\n",
       "       Level 1 Recovery      56.000000\n",
       "       Level 2 Recovery      63.000000\n",
       "       Level 3 Recovery      80.000000\n",
       "       Level 4 Recovery      84.000000\n",
       "dtype: float64"
      ]
     },
     "execution_count": 12,
     "metadata": {},
     "output_type": "execute_result"
    }
   ],
   "source": [
    "# Computing the statistics for recovery strategy of whole dataset\n",
    "data.groupby('recovery_strategy')['age'].describe().unstack()"
   ]
  },
  {
   "cell_type": "markdown",
   "id": "d4cb9aa2",
   "metadata": {},
   "source": [
    "In the early stages of the recovery strategies (Level 0 and Level 1), it's evident that a substantial majority, around 75%, of the population is under 32 years old."
   ]
  },
  {
   "cell_type": "code",
   "execution_count": 13,
   "id": "af8b432f",
   "metadata": {},
   "outputs": [
    {
     "data": {
      "text/plain": [
       "KruskalResult(statistic=3.4572342749517513, pvalue=0.06297556896097407)"
      ]
     },
     "execution_count": 13,
     "metadata": {},
     "output_type": "execute_result"
    }
   ],
   "source": [
    "from scipy import stats\n",
    "age_level_0 = exp_rec_amt_900_1100.loc[data['recovery_strategy'] == 'Level 0 Recovery']['age']\n",
    "age_level_1 = exp_rec_amt_900_1100.loc[data['recovery_strategy'] == 'Level 1 Recovery']['age']\n",
    "stats.kruskal(age_level_0, age_level_1)"
   ]
  },
  {
   "cell_type": "markdown",
   "id": "6b32b2cd",
   "metadata": {},
   "source": [
    "Since our p-value (0.063) is slightly higher than 0.05, we do not have enough evidence to reject the null hypothesis at the 0.05 significance level.This means that we do not have sufficient evidence to conclude that there are significant differences between the groups based on the Kruskal-Wallis test."
   ]
  },
  {
   "cell_type": "markdown",
   "id": "1b1bd6f1",
   "metadata": {},
   "source": [
    "## Statistical test: sex vs. expected recovery amount\n",
    "We have observed that there is no significant change in the average customer age just above and just below the one-thousand-dollar threshold. This assessment was made through both a statistical test and a visual examination using a scatter plot.\n",
    "\n",
    "Next, we aim to verify that the proportion of male customers remains consistent across the $1000 threshold. We will initially focus on the range from nine hundred to eleven hundred dollars and may adjust this range as needed.\n",
    "\n",
    "To address this question analytically, we will construct cross-tabulations and perform chi-square tests comparing the percentage of male to female customers."
   ]
  },
  {
   "cell_type": "code",
   "execution_count": 14,
   "id": "b453316a",
   "metadata": {},
   "outputs": [
    {
     "name": "stdout",
     "output_type": "stream",
     "text": [
      "sex                Female  Male\n",
      "recovery_strategy              \n",
      "Level 0 Recovery       32    57\n",
      "Level 1 Recovery       39    55\n",
      "--------------------\n",
      "0.5377947810444592\n"
     ]
    }
   ],
   "source": [
    "crosstab = pd.crosstab(data.loc[(data['expected_recovery_amount'] <1100) & \n",
    "                    (data['expected_recovery_amount']>=900)]['recovery_strategy'], data['sex'])\n",
    "print(crosstab)\n",
    "chi2_stat, p_val, dof, ex = stats.chi2_contingency(crosstab)\n",
    "print('-'*20)\n",
    "print(p_val)"
   ]
  },
  {
   "cell_type": "code",
   "execution_count": 15,
   "id": "0f1ace21",
   "metadata": {},
   "outputs": [],
   "source": [
    "exp_rec_amt_900_1100_male = data.loc[(data['expected_recovery_amount'] <1100) & (data['expected_recovery_amount'] >=900) \n",
    "         & (data['sex'] == 'Male')]"
   ]
  },
  {
   "cell_type": "code",
   "execution_count": 16,
   "id": "15a44aaf",
   "metadata": {},
   "outputs": [
    {
     "name": "stdout",
     "output_type": "stream",
     "text": [
      "       id  expected_recovery_amount  actual_recovery_amount recovery_strategy  \\\n",
      "158   520                       900                 504.790  Level 0 Recovery   \n",
      "160  1383                       900                 554.745  Level 0 Recovery   \n",
      "161   998                       901                 887.005  Level 0 Recovery   \n",
      "162  1351                       903                 667.035  Level 0 Recovery   \n",
      "164  1943                       906                 874.560  Level 0 Recovery   \n",
      "\n",
      "     age   sex  \n",
      "158   34  Male  \n",
      "160   24  Male  \n",
      "161   32  Male  \n",
      "162   28  Male  \n",
      "164   29  Male  \n",
      "--------------------\n",
      "(112, 6)\n"
     ]
    }
   ],
   "source": [
    "print(exp_rec_amt_900_1100_male.head(5))\n",
    "print('-'*20)\n",
    "print(exp_rec_amt_900_1100_male.shape)"
   ]
  },
  {
   "cell_type": "markdown",
   "id": "17a2b952",
   "metadata": {},
   "source": [
    "## Exploratory graphical analysis: recovery amount\n",
    "We are now reasonably confident that customers just above and just below the $1000 threshold are, on average, similar in their average age and the percentage that are male.\n",
    "\n",
    "It is now time to focus on the key outcome of interest, the actual recovery amount.\n",
    "\n",
    "A first step in examining the relationship between the actual recovery amount and the expected recovery amount is to develop a scatter plot where we want to focus our attention at the range just below and just above the threshold. Specifically, we will develop a scatter plot of Expected Recovery Amount (Y) vs. Actual Recovery Amount (X) for Expected Recovery Amounts between 900 to 1100 dollars. This range covers Levels 0 and 1. A key question is whether or not we see a discontinuity (jump) around the one-thousand-dollar threshold."
   ]
  },
  {
   "cell_type": "code",
   "execution_count": 17,
   "id": "f7e9c21e",
   "metadata": {},
   "outputs": [
    {
     "data": {
      "image/png": "[encoded data removed]",
      "text/plain": [
       "<Figure size 640x480 with 1 Axes>"
      ]
     },
     "metadata": {},
     "output_type": "display_data"
    }
   ],
   "source": [
    "# Scatter plot of Actual Recovery Amount vs. Expected Recovery Amount \n",
    "plt.scatter(x=data['expected_recovery_amount'], y=data['actual_recovery_amount'], color = 'blue', s= 3, label = 'actual_recovery_amount')\n",
    "# below range will cover recovery level 0 and 1\n",
    "plt.xlim(900, 1100)\n",
    "plt.ylim(0, 2000)\n",
    "plt.xlabel(\"Expected Recovery Amount\")\n",
    "plt.ylabel(\"Actual Recovery Amount\")\n",
    "plt.legend(loc=2)\n",
    "plt.show()"
   ]
  },
  {
   "cell_type": "markdown",
   "id": "96e6b791",
   "metadata": {},
   "source": [
    "Again, we are not seeing any discontinuity around $1000 threshold."
   ]
  },
  {
   "cell_type": "markdown",
   "id": "935d5d28",
   "metadata": {},
   "source": [
    "## Statistical analysis: recovery amount"
   ]
  },
  {
   "cell_type": "markdown",
   "id": "87bd9cfc",
   "metadata": {},
   "source": [
    "Similar to our analysis of age, we can conduct statistical tests to asceratain if there exists a discontinuity in the actual recovery amount beyond the $1000 threshold. \n",
    "We will perform this analysis for two distinct ranges of expected recovery amounts: 900 to 1100 dollars, and a narrower span of 950 to 1050 dollars, in order to verify the consistency of our results."
   ]
  },
  {
   "cell_type": "code",
   "execution_count": 18,
   "id": "40d8d503",
   "metadata": {},
   "outputs": [
    {
     "data": {
      "text/plain": [
       "       recovery_strategy\n",
       "count  Level 0 Recovery       89.000000\n",
       "       Level 1 Recovery       94.000000\n",
       "mean   Level 0 Recovery      623.017022\n",
       "       Level 1 Recovery      955.825551\n",
       "std    Level 0 Recovery      211.620859\n",
       "       Level 1 Recovery      293.732434\n",
       "min    Level 0 Recovery      282.855000\n",
       "       Level 1 Recovery      433.199166\n",
       "25%    Level 0 Recovery      491.425000\n",
       "       Level 1 Recovery      777.705154\n",
       "50%    Level 0 Recovery      575.435000\n",
       "       Level 1 Recovery      907.271525\n",
       "75%    Level 0 Recovery      762.995000\n",
       "       Level 1 Recovery     1060.334387\n",
       "max    Level 0 Recovery     1225.660000\n",
       "       Level 1 Recovery     2053.290126\n",
       "dtype: float64"
      ]
     },
     "execution_count": 18,
     "metadata": {},
     "output_type": "execute_result"
    }
   ],
   "source": [
    "exp_rec_amt_900_1100.groupby(['recovery_strategy'])['actual_recovery_amount'].describe().unstack()"
   ]
  },
  {
   "cell_type": "code",
   "execution_count": 19,
   "id": "df2d4438",
   "metadata": {},
   "outputs": [
    {
     "name": "stdout",
     "output_type": "stream",
     "text": [
      "KruskalResult(statistic=65.37966302528878, pvalue=6.17730875280311e-16)\n"
     ]
    }
   ],
   "source": [
    "# Perform Kruskal-Wallis test\n",
    "level_0_actual = exp_rec_amt_900_1100.loc[data['recovery_strategy'] == 'Level 0 Recovery']['actual_recovery_amount']\n",
    "level_1_actual = exp_rec_amt_900_1100.loc[data['recovery_strategy'] == 'Level 1 Recovery']['actual_recovery_amount']\n",
    "print(stats.kruskal(level_0_actual, level_1_actual))"
   ]
  },
  {
   "cell_type": "code",
   "execution_count": 20,
   "id": "3cef3db2",
   "metadata": {},
   "outputs": [
    {
     "name": "stdout",
     "output_type": "stream",
     "text": [
      "KruskalResult(statistic=30.246000000000038, pvalue=3.80575314300276e-08)\n"
     ]
    }
   ],
   "source": [
    "era_950_1050 = data.loc[(data['expected_recovery_amount']<1050) & \n",
    "                      (data['expected_recovery_amount']>=950)]\n",
    "Level_0_actual = era_950_1050.loc[data['recovery_strategy']=='Level 0 Recovery']['actual_recovery_amount']\n",
    "Level_1_actual = era_950_1050.loc[data['recovery_strategy']=='Level 1 Recovery']['actual_recovery_amount']\n",
    "# ... YOUR CODE FOR TASK 6 ...\n",
    "print(stats.kruskal(Level_0_actual,Level_1_actual))"
   ]
  },
  {
   "cell_type": "markdown",
   "id": "cd004864",
   "metadata": {},
   "source": [
    "#### Interpretting the above results:\n",
    "The very small p-value (close to zero) suggests strong evidence against the null hypothesis, this indicates that there are significant differences between the groups being compared. In other words, we have enough evidence to reject the null hypothesis, suggesting that at least one of the groups differs from the others."
   ]
  },
  {
   "cell_type": "markdown",
   "id": "6bfb72c6",
   "metadata": {},
   "source": [
    "### Regression modeling: no threshold"
   ]
  },
  {
   "cell_type": "markdown",
   "id": "c3520862",
   "metadata": {},
   "source": [
    "We now take a regression-based approach to estimate the impact of the program at the $1000 threshold using the data that is just above and just below the threshold."
   ]
  },
  {
   "cell_type": "code",
   "execution_count": 21,
   "id": "8a84da04",
   "metadata": {},
   "outputs": [
    {
     "data": {
      "text/html": [
       "<table class=\"simpletable\">\n",
       "<caption>OLS Regression Results</caption>\n",
       "<tr>\n",
       "  <th>Dep. Variable:</th>    <td>actual_recovery_amount</td> <th>  R-squared:         </th> <td>   0.261</td>\n",
       "</tr>\n",
       "<tr>\n",
       "  <th>Model:</th>                      <td>OLS</td>          <th>  Adj. R-squared:    </th> <td>   0.256</td>\n",
       "</tr>\n",
       "<tr>\n",
       "  <th>Method:</th>                <td>Least Squares</td>     <th>  F-statistic:       </th> <td>   63.78</td>\n",
       "</tr>\n",
       "<tr>\n",
       "  <th>Date:</th>                <td>Tue, 10 Oct 2023</td>    <th>  Prob (F-statistic):</th> <td>1.56e-13</td>\n",
       "</tr>\n",
       "<tr>\n",
       "  <th>Time:</th>                    <td>11:46:41</td>        <th>  Log-Likelihood:    </th> <td> -1278.9</td>\n",
       "</tr>\n",
       "<tr>\n",
       "  <th>No. Observations:</th>         <td>   183</td>         <th>  AIC:               </th> <td>   2562.</td>\n",
       "</tr>\n",
       "<tr>\n",
       "  <th>Df Residuals:</th>             <td>   181</td>         <th>  BIC:               </th> <td>   2568.</td>\n",
       "</tr>\n",
       "<tr>\n",
       "  <th>Df Model:</th>                 <td>     1</td>         <th>                     </th>     <td> </td>   \n",
       "</tr>\n",
       "<tr>\n",
       "  <th>Covariance Type:</th>         <td>nonrobust</td>       <th>                     </th>     <td> </td>   \n",
       "</tr>\n",
       "</table>\n",
       "<table class=\"simpletable\">\n",
       "<tr>\n",
       "              <td></td>                <th>coef</th>     <th>std err</th>      <th>t</th>      <th>P>|t|</th>  <th>[0.025</th>    <th>0.975]</th>  \n",
       "</tr>\n",
       "<tr>\n",
       "  <th>const</th>                    <td>-1978.7597</td> <td>  347.741</td> <td>   -5.690</td> <td> 0.000</td> <td>-2664.907</td> <td>-1292.612</td>\n",
       "</tr>\n",
       "<tr>\n",
       "  <th>expected_recovery_amount</th> <td>    2.7577</td> <td>    0.345</td> <td>    7.986</td> <td> 0.000</td> <td>    2.076</td> <td>    3.439</td>\n",
       "</tr>\n",
       "</table>\n",
       "<table class=\"simpletable\">\n",
       "<tr>\n",
       "  <th>Omnibus:</th>       <td>64.493</td> <th>  Durbin-Watson:     </th> <td>   1.777</td>\n",
       "</tr>\n",
       "<tr>\n",
       "  <th>Prob(Omnibus):</th> <td> 0.000</td> <th>  Jarque-Bera (JB):  </th> <td> 185.818</td>\n",
       "</tr>\n",
       "<tr>\n",
       "  <th>Skew:</th>          <td> 1.463</td> <th>  Prob(JB):          </th> <td>4.47e-41</td>\n",
       "</tr>\n",
       "<tr>\n",
       "  <th>Kurtosis:</th>      <td> 6.977</td> <th>  Cond. No.          </th> <td>1.80e+04</td>\n",
       "</tr>\n",
       "</table><br/><br/>Notes:<br/>[1] Standard Errors assume that the covariance matrix of the errors is correctly specified.<br/>[2] The condition number is large, 1.8e+04. This might indicate that there are<br/>strong multicollinearity or other numerical problems."
      ],
      "text/latex": [
       "\\begin{center}\n",
       "\\begin{tabular}{lclc}\n",
       "\\toprule\n",
       "\\textbf{Dep. Variable:}             & actual\\_recovery\\_amount & \\textbf{  R-squared:         } &     0.261   \\\\\n",
       "\\textbf{Model:}                     &           OLS            & \\textbf{  Adj. R-squared:    } &     0.256   \\\\\n",
       "\\textbf{Method:}                    &      Least Squares       & \\textbf{  F-statistic:       } &     63.78   \\\\\n",
       "\\textbf{Date:}                      &     Tue, 10 Oct 2023     & \\textbf{  Prob (F-statistic):} &  1.56e-13   \\\\\n",
       "\\textbf{Time:}                      &         11:46:41         & \\textbf{  Log-Likelihood:    } &   -1278.9   \\\\\n",
       "\\textbf{No. Observations:}          &             183          & \\textbf{  AIC:               } &     2562.   \\\\\n",
       "\\textbf{Df Residuals:}              &             181          & \\textbf{  BIC:               } &     2568.   \\\\\n",
       "\\textbf{Df Model:}                  &               1          & \\textbf{                     } &             \\\\\n",
       "\\textbf{Covariance Type:}           &        nonrobust         & \\textbf{                     } &             \\\\\n",
       "\\bottomrule\n",
       "\\end{tabular}\n",
       "\\begin{tabular}{lcccccc}\n",
       "                                    & \\textbf{coef} & \\textbf{std err} & \\textbf{t} & \\textbf{P$> |$t$|$} & \\textbf{[0.025} & \\textbf{0.975]}  \\\\\n",
       "\\midrule\n",
       "\\textbf{const}                      &   -1978.7597  &      347.741     &    -5.690  &         0.000        &    -2664.907    &    -1292.612     \\\\\n",
       "\\textbf{expected\\_recovery\\_amount} &       2.7577  &        0.345     &     7.986  &         0.000        &        2.076    &        3.439     \\\\\n",
       "\\bottomrule\n",
       "\\end{tabular}\n",
       "\\begin{tabular}{lclc}\n",
       "\\textbf{Omnibus:}       & 64.493 & \\textbf{  Durbin-Watson:     } &    1.777  \\\\\n",
       "\\textbf{Prob(Omnibus):} &  0.000 & \\textbf{  Jarque-Bera (JB):  } &  185.818  \\\\\n",
       "\\textbf{Skew:}          &  1.463 & \\textbf{  Prob(JB):          } & 4.47e-41  \\\\\n",
       "\\textbf{Kurtosis:}      &  6.977 & \\textbf{  Cond. No.          } & 1.80e+04  \\\\\n",
       "\\bottomrule\n",
       "\\end{tabular}\n",
       "%\\caption{OLS Regression Results}\n",
       "\\end{center}\n",
       "\n",
       "Notes: \\newline\n",
       " [1] Standard Errors assume that the covariance matrix of the errors is correctly specified. \\newline\n",
       " [2] The condition number is large, 1.8e+04. This might indicate that there are \\newline\n",
       " strong multicollinearity or other numerical problems."
      ],
      "text/plain": [
       "<class 'statsmodels.iolib.summary.Summary'>\n",
       "\"\"\"\n",
       "                              OLS Regression Results                              \n",
       "==================================================================================\n",
       "Dep. Variable:     actual_recovery_amount   R-squared:                       0.261\n",
       "Model:                                OLS   Adj. R-squared:                  0.256\n",
       "Method:                     Least Squares   F-statistic:                     63.78\n",
       "Date:                    Tue, 10 Oct 2023   Prob (F-statistic):           1.56e-13\n",
       "Time:                            11:46:41   Log-Likelihood:                -1278.9\n",
       "No. Observations:                     183   AIC:                             2562.\n",
       "Df Residuals:                         181   BIC:                             2568.\n",
       "Df Model:                               1                                         \n",
       "Covariance Type:                nonrobust                                         \n",
       "============================================================================================\n",
       "                               coef    std err          t      P>|t|      [0.025      0.975]\n",
       "--------------------------------------------------------------------------------------------\n",
       "const                    -1978.7597    347.741     -5.690      0.000   -2664.907   -1292.612\n",
       "expected_recovery_amount     2.7577      0.345      7.986      0.000       2.076       3.439\n",
       "==============================================================================\n",
       "Omnibus:                       64.493   Durbin-Watson:                   1.777\n",
       "Prob(Omnibus):                  0.000   Jarque-Bera (JB):              185.818\n",
       "Skew:                           1.463   Prob(JB):                     4.47e-41\n",
       "Kurtosis:                       6.977   Cond. No.                     1.80e+04\n",
       "==============================================================================\n",
       "\n",
       "Notes:\n",
       "[1] Standard Errors assume that the covariance matrix of the errors is correctly specified.\n",
       "[2] The condition number is large, 1.8e+04. This might indicate that there are\n",
       "strong multicollinearity or other numerical problems.\n",
       "\"\"\""
      ]
     },
     "execution_count": 21,
     "metadata": {},
     "output_type": "execute_result"
    }
   ],
   "source": [
    "# Import statsmodels\n",
    "import statsmodels.api as sm\n",
    "\n",
    "# Define X and y\n",
    "X = exp_rec_amt_900_1100['expected_recovery_amount']\n",
    "y = exp_rec_amt_900_1100['actual_recovery_amount']\n",
    "X = sm.add_constant(X)\n",
    "\n",
    "# Build linear regression model\n",
    "mdl = sm.OLS(y, X).fit()\n",
    "predictions = mdl.predict(X)\n",
    "\n",
    "# Print out the model summary statistics\n",
    "# ... YOUR CODE FOR TASK 7 ...\n",
    "mdl.summary()"
   ]
  },
  {
   "cell_type": "markdown",
   "id": "c6d1ef8a",
   "metadata": {},
   "source": [
    "### Regression modeling: adding true threshold\n",
    "In this case we are adding threshold to the model ($1000)"
   ]
  },
  {
   "cell_type": "markdown",
   "id": "0c26f78f",
   "metadata": {},
   "source": [
    "We will introduce a binary indicator variable (taking values of either 0 or 1) to signify whether the expected recovery amount exceeded $1000. When incorporating the actual threshold into the model, the regression coefficient associated with this true threshold reflects the additional amount recovered as a result of implementing the higher recovery strategy. In essence, this coefficient quantifies the magnitude of the discontinuity observed for customers positioned just above and just below the threshold.\n",
    "\n",
    "Should the elevated recovery strategy prove more effective in retrieving additional funds, the regression coefficient for the true threshold will be positive. Conversely, if the higher recovery strategy doesn't lead to a statistically significant increase in recovery, the coefficient will not be deemed statistically significant."
   ]
  },
  {
   "cell_type": "code",
   "execution_count": 22,
   "id": "4635e079",
   "metadata": {},
   "outputs": [
    {
     "data": {
      "text/html": [
       "<table class=\"simpletable\">\n",
       "<caption>OLS Regression Results</caption>\n",
       "<tr>\n",
       "  <th>Dep. Variable:</th>    <td>actual_recovery_amount</td> <th>  R-squared:         </th> <td>   0.314</td>\n",
       "</tr>\n",
       "<tr>\n",
       "  <th>Model:</th>                      <td>OLS</td>          <th>  Adj. R-squared:    </th> <td>   0.307</td>\n",
       "</tr>\n",
       "<tr>\n",
       "  <th>Method:</th>                <td>Least Squares</td>     <th>  F-statistic:       </th> <td>   41.22</td>\n",
       "</tr>\n",
       "<tr>\n",
       "  <th>Date:</th>                <td>Tue, 10 Oct 2023</td>    <th>  Prob (F-statistic):</th> <td>1.83e-15</td>\n",
       "</tr>\n",
       "<tr>\n",
       "  <th>Time:</th>                    <td>11:46:41</td>        <th>  Log-Likelihood:    </th> <td> -1272.0</td>\n",
       "</tr>\n",
       "<tr>\n",
       "  <th>No. Observations:</th>         <td>   183</td>         <th>  AIC:               </th> <td>   2550.</td>\n",
       "</tr>\n",
       "<tr>\n",
       "  <th>Df Residuals:</th>             <td>   180</td>         <th>  BIC:               </th> <td>   2560.</td>\n",
       "</tr>\n",
       "<tr>\n",
       "  <th>Df Model:</th>                 <td>     2</td>         <th>                     </th>     <td> </td>   \n",
       "</tr>\n",
       "<tr>\n",
       "  <th>Covariance Type:</th>         <td>nonrobust</td>       <th>                     </th>     <td> </td>   \n",
       "</tr>\n",
       "</table>\n",
       "<table class=\"simpletable\">\n",
       "<tr>\n",
       "              <td></td>                <th>coef</th>     <th>std err</th>      <th>t</th>      <th>P>|t|</th>  <th>[0.025</th>    <th>0.975]</th>  \n",
       "</tr>\n",
       "<tr>\n",
       "  <th>const</th>                    <td>    3.3440</td> <td>  626.274</td> <td>    0.005</td> <td> 0.996</td> <td>-1232.440</td> <td> 1239.128</td>\n",
       "</tr>\n",
       "<tr>\n",
       "  <th>expected_recovery_amount</th> <td>    0.6430</td> <td>    0.655</td> <td>    0.981</td> <td> 0.328</td> <td>   -0.650</td> <td>    1.936</td>\n",
       "</tr>\n",
       "<tr>\n",
       "  <th>indicator_1000</th>           <td>  277.6344</td> <td>   74.043</td> <td>    3.750</td> <td> 0.000</td> <td>  131.530</td> <td>  423.739</td>\n",
       "</tr>\n",
       "</table>\n",
       "<table class=\"simpletable\">\n",
       "<tr>\n",
       "  <th>Omnibus:</th>       <td>65.977</td> <th>  Durbin-Watson:     </th> <td>   1.906</td>\n",
       "</tr>\n",
       "<tr>\n",
       "  <th>Prob(Omnibus):</th> <td> 0.000</td> <th>  Jarque-Bera (JB):  </th> <td> 186.537</td>\n",
       "</tr>\n",
       "<tr>\n",
       "  <th>Skew:</th>          <td> 1.510</td> <th>  Prob(JB):          </th> <td>3.12e-41</td>\n",
       "</tr>\n",
       "<tr>\n",
       "  <th>Kurtosis:</th>      <td> 6.917</td> <th>  Cond. No.          </th> <td>3.37e+04</td>\n",
       "</tr>\n",
       "</table><br/><br/>Notes:<br/>[1] Standard Errors assume that the covariance matrix of the errors is correctly specified.<br/>[2] The condition number is large, 3.37e+04. This might indicate that there are<br/>strong multicollinearity or other numerical problems."
      ],
      "text/latex": [
       "\\begin{center}\n",
       "\\begin{tabular}{lclc}\n",
       "\\toprule\n",
       "\\textbf{Dep. Variable:}             & actual\\_recovery\\_amount & \\textbf{  R-squared:         } &     0.314   \\\\\n",
       "\\textbf{Model:}                     &           OLS            & \\textbf{  Adj. R-squared:    } &     0.307   \\\\\n",
       "\\textbf{Method:}                    &      Least Squares       & \\textbf{  F-statistic:       } &     41.22   \\\\\n",
       "\\textbf{Date:}                      &     Tue, 10 Oct 2023     & \\textbf{  Prob (F-statistic):} &  1.83e-15   \\\\\n",
       "\\textbf{Time:}                      &         11:46:41         & \\textbf{  Log-Likelihood:    } &   -1272.0   \\\\\n",
       "\\textbf{No. Observations:}          &             183          & \\textbf{  AIC:               } &     2550.   \\\\\n",
       "\\textbf{Df Residuals:}              &             180          & \\textbf{  BIC:               } &     2560.   \\\\\n",
       "\\textbf{Df Model:}                  &               2          & \\textbf{                     } &             \\\\\n",
       "\\textbf{Covariance Type:}           &        nonrobust         & \\textbf{                     } &             \\\\\n",
       "\\bottomrule\n",
       "\\end{tabular}\n",
       "\\begin{tabular}{lcccccc}\n",
       "                                    & \\textbf{coef} & \\textbf{std err} & \\textbf{t} & \\textbf{P$> |$t$|$} & \\textbf{[0.025} & \\textbf{0.975]}  \\\\\n",
       "\\midrule\n",
       "\\textbf{const}                      &       3.3440  &      626.274     &     0.005  &         0.996        &    -1232.440    &     1239.128     \\\\\n",
       "\\textbf{expected\\_recovery\\_amount} &       0.6430  &        0.655     &     0.981  &         0.328        &       -0.650    &        1.936     \\\\\n",
       "\\textbf{indicator\\_1000}            &     277.6344  &       74.043     &     3.750  &         0.000        &      131.530    &      423.739     \\\\\n",
       "\\bottomrule\n",
       "\\end{tabular}\n",
       "\\begin{tabular}{lclc}\n",
       "\\textbf{Omnibus:}       & 65.977 & \\textbf{  Durbin-Watson:     } &    1.906  \\\\\n",
       "\\textbf{Prob(Omnibus):} &  0.000 & \\textbf{  Jarque-Bera (JB):  } &  186.537  \\\\\n",
       "\\textbf{Skew:}          &  1.510 & \\textbf{  Prob(JB):          } & 3.12e-41  \\\\\n",
       "\\textbf{Kurtosis:}      &  6.917 & \\textbf{  Cond. No.          } & 3.37e+04  \\\\\n",
       "\\bottomrule\n",
       "\\end{tabular}\n",
       "%\\caption{OLS Regression Results}\n",
       "\\end{center}\n",
       "\n",
       "Notes: \\newline\n",
       " [1] Standard Errors assume that the covariance matrix of the errors is correctly specified. \\newline\n",
       " [2] The condition number is large, 3.37e+04. This might indicate that there are \\newline\n",
       " strong multicollinearity or other numerical problems."
      ],
      "text/plain": [
       "<class 'statsmodels.iolib.summary.Summary'>\n",
       "\"\"\"\n",
       "                              OLS Regression Results                              \n",
       "==================================================================================\n",
       "Dep. Variable:     actual_recovery_amount   R-squared:                       0.314\n",
       "Model:                                OLS   Adj. R-squared:                  0.307\n",
       "Method:                     Least Squares   F-statistic:                     41.22\n",
       "Date:                    Tue, 10 Oct 2023   Prob (F-statistic):           1.83e-15\n",
       "Time:                            11:46:41   Log-Likelihood:                -1272.0\n",
       "No. Observations:                     183   AIC:                             2550.\n",
       "Df Residuals:                         180   BIC:                             2560.\n",
       "Df Model:                               2                                         \n",
       "Covariance Type:                nonrobust                                         \n",
       "============================================================================================\n",
       "                               coef    std err          t      P>|t|      [0.025      0.975]\n",
       "--------------------------------------------------------------------------------------------\n",
       "const                        3.3440    626.274      0.005      0.996   -1232.440    1239.128\n",
       "expected_recovery_amount     0.6430      0.655      0.981      0.328      -0.650       1.936\n",
       "indicator_1000             277.6344     74.043      3.750      0.000     131.530     423.739\n",
       "==============================================================================\n",
       "Omnibus:                       65.977   Durbin-Watson:                   1.906\n",
       "Prob(Omnibus):                  0.000   Jarque-Bera (JB):              186.537\n",
       "Skew:                           1.510   Prob(JB):                     3.12e-41\n",
       "Kurtosis:                       6.917   Cond. No.                     3.37e+04\n",
       "==============================================================================\n",
       "\n",
       "Notes:\n",
       "[1] Standard Errors assume that the covariance matrix of the errors is correctly specified.\n",
       "[2] The condition number is large, 3.37e+04. This might indicate that there are\n",
       "strong multicollinearity or other numerical problems.\n",
       "\"\"\""
      ]
     },
     "execution_count": 22,
     "metadata": {},
     "output_type": "execute_result"
    }
   ],
   "source": [
    "# Create indicator (0 or 1) for expected recovery amount >= $1000\n",
    "data['indicator_1000'] = np.where(data['expected_recovery_amount'] <1000, 0,1)\n",
    "exp_rec_amt_900_1100 = data.loc[(data['expected_recovery_amount']<1100) & (data['expected_recovery_amount'] >=900)]\n",
    "\n",
    "#define X and y\n",
    "X= exp_rec_amt_900_1100[['expected_recovery_amount', 'indicator_1000']]\n",
    "y = exp_rec_amt_900_1100['actual_recovery_amount']\n",
    "X = sm.add_constant(X)\n",
    "\n",
    "#building linear regression model\n",
    "model = sm.OLS(y, X).fit()\n",
    "\n",
    "# print the model summary\n",
    "model.summary()"
   ]
  },
  {
   "cell_type": "markdown",
   "id": "aec5a550",
   "metadata": {},
   "source": [
    "### Regression modeling: adjusting the window"
   ]
  },
  {
   "cell_type": "markdown",
   "id": "079c369c",
   "metadata": {},
   "source": [
    "The regression coefficient for the actual threshold demonstrated statistical significance, signifying an estimated impact of roughly 278 dollars. This figure significantly surpasses the required investment of 50 dollars per customer to implement the enhanced recovery strategy."
   ]
  },
  {
   "cell_type": "markdown",
   "id": "a261e78d",
   "metadata": {},
   "source": [
    "Before presenting these findings to our manager, it's important to ensure that the observed result isn't solely attributed to the chosen range of expected recovery amounts, which was initially set between 900 to 1100 dollars. To validate our findings, we'll conduct a parallel analysis using a narrower range, specifically from 950 to 1050 dollars, and check for consistency in the results.\n",
    "\n",
    "Regardless of whether we consider a wider range (900 to 1100 dollars) or a more focused range (950 to 1050 dollars), the additional recovery amount attributed to the higher recovery strategy vastly outweighs the 50 dollars per customer cost associated with its implementation. Based on this analysis, we can confidently conclude that the higher recovery strategy justifies the extra expenditure of 50 dollars per customer."
   ]
  },
  {
   "cell_type": "code",
   "execution_count": 23,
   "id": "53e742be",
   "metadata": {},
   "outputs": [
    {
     "data": {
      "text/html": [
       "<table class=\"simpletable\">\n",
       "<caption>OLS Regression Results</caption>\n",
       "<tr>\n",
       "  <th>Dep. Variable:</th>    <td>actual_recovery_amount</td> <th>  R-squared:         </th> <td>   0.281</td>\n",
       "</tr>\n",
       "<tr>\n",
       "  <th>Model:</th>                      <td>OLS</td>          <th>  Adj. R-squared:    </th> <td>   0.271</td>\n",
       "</tr>\n",
       "<tr>\n",
       "  <th>Method:</th>                <td>Least Squares</td>     <th>  F-statistic:       </th> <td>   28.48</td>\n",
       "</tr>\n",
       "<tr>\n",
       "  <th>Date:</th>                <td>Tue, 10 Oct 2023</td>    <th>  Prob (F-statistic):</th> <td>3.61e-11</td>\n",
       "</tr>\n",
       "<tr>\n",
       "  <th>Time:</th>                    <td>11:46:41</td>        <th>  Log-Likelihood:    </th> <td> -1043.1</td>\n",
       "</tr>\n",
       "<tr>\n",
       "  <th>No. Observations:</th>         <td>   149</td>         <th>  AIC:               </th> <td>   2092.</td>\n",
       "</tr>\n",
       "<tr>\n",
       "  <th>Df Residuals:</th>             <td>   146</td>         <th>  BIC:               </th> <td>   2101.</td>\n",
       "</tr>\n",
       "<tr>\n",
       "  <th>Df Model:</th>                 <td>     2</td>         <th>                     </th>     <td> </td>   \n",
       "</tr>\n",
       "<tr>\n",
       "  <th>Covariance Type:</th>         <td>nonrobust</td>       <th>                     </th>     <td> </td>   \n",
       "</tr>\n",
       "</table>\n",
       "<table class=\"simpletable\">\n",
       "<tr>\n",
       "              <td></td>                <th>coef</th>     <th>std err</th>      <th>t</th>      <th>P>|t|</th>  <th>[0.025</th>    <th>0.975]</th>  \n",
       "</tr>\n",
       "<tr>\n",
       "  <th>const</th>                    <td> -468.3862</td> <td>  907.328</td> <td>   -0.516</td> <td> 0.606</td> <td>-2261.579</td> <td> 1324.807</td>\n",
       "</tr>\n",
       "<tr>\n",
       "  <th>expected_recovery_amount</th> <td>    1.1125</td> <td>    0.929</td> <td>    1.197</td> <td> 0.233</td> <td>   -0.724</td> <td>    2.949</td>\n",
       "</tr>\n",
       "<tr>\n",
       "  <th>indicator_1000</th>           <td>  255.3020</td> <td>   84.615</td> <td>    3.017</td> <td> 0.003</td> <td>   88.074</td> <td>  422.530</td>\n",
       "</tr>\n",
       "</table>\n",
       "<table class=\"simpletable\">\n",
       "<tr>\n",
       "  <th>Omnibus:</th>       <td>59.402</td> <th>  Durbin-Watson:     </th> <td>   1.866</td>\n",
       "</tr>\n",
       "<tr>\n",
       "  <th>Prob(Omnibus):</th> <td> 0.000</td> <th>  Jarque-Bera (JB):  </th> <td> 160.729</td>\n",
       "</tr>\n",
       "<tr>\n",
       "  <th>Skew:</th>          <td> 1.628</td> <th>  Prob(JB):          </th> <td>1.25e-35</td>\n",
       "</tr>\n",
       "<tr>\n",
       "  <th>Kurtosis:</th>      <td> 6.909</td> <th>  Cond. No.          </th> <td>4.25e+04</td>\n",
       "</tr>\n",
       "</table><br/><br/>Notes:<br/>[1] Standard Errors assume that the covariance matrix of the errors is correctly specified.<br/>[2] The condition number is large, 4.25e+04. This might indicate that there are<br/>strong multicollinearity or other numerical problems."
      ],
      "text/latex": [
       "\\begin{center}\n",
       "\\begin{tabular}{lclc}\n",
       "\\toprule\n",
       "\\textbf{Dep. Variable:}             & actual\\_recovery\\_amount & \\textbf{  R-squared:         } &     0.281   \\\\\n",
       "\\textbf{Model:}                     &           OLS            & \\textbf{  Adj. R-squared:    } &     0.271   \\\\\n",
       "\\textbf{Method:}                    &      Least Squares       & \\textbf{  F-statistic:       } &     28.48   \\\\\n",
       "\\textbf{Date:}                      &     Tue, 10 Oct 2023     & \\textbf{  Prob (F-statistic):} &  3.61e-11   \\\\\n",
       "\\textbf{Time:}                      &         11:46:41         & \\textbf{  Log-Likelihood:    } &   -1043.1   \\\\\n",
       "\\textbf{No. Observations:}          &             149          & \\textbf{  AIC:               } &     2092.   \\\\\n",
       "\\textbf{Df Residuals:}              &             146          & \\textbf{  BIC:               } &     2101.   \\\\\n",
       "\\textbf{Df Model:}                  &               2          & \\textbf{                     } &             \\\\\n",
       "\\textbf{Covariance Type:}           &        nonrobust         & \\textbf{                     } &             \\\\\n",
       "\\bottomrule\n",
       "\\end{tabular}\n",
       "\\begin{tabular}{lcccccc}\n",
       "                                    & \\textbf{coef} & \\textbf{std err} & \\textbf{t} & \\textbf{P$> |$t$|$} & \\textbf{[0.025} & \\textbf{0.975]}  \\\\\n",
       "\\midrule\n",
       "\\textbf{const}                      &    -468.3862  &      907.328     &    -0.516  &         0.606        &    -2261.579    &     1324.807     \\\\\n",
       "\\textbf{expected\\_recovery\\_amount} &       1.1125  &        0.929     &     1.197  &         0.233        &       -0.724    &        2.949     \\\\\n",
       "\\textbf{indicator\\_1000}            &     255.3020  &       84.615     &     3.017  &         0.003        &       88.074    &      422.530     \\\\\n",
       "\\bottomrule\n",
       "\\end{tabular}\n",
       "\\begin{tabular}{lclc}\n",
       "\\textbf{Omnibus:}       & 59.402 & \\textbf{  Durbin-Watson:     } &    1.866  \\\\\n",
       "\\textbf{Prob(Omnibus):} &  0.000 & \\textbf{  Jarque-Bera (JB):  } &  160.729  \\\\\n",
       "\\textbf{Skew:}          &  1.628 & \\textbf{  Prob(JB):          } & 1.25e-35  \\\\\n",
       "\\textbf{Kurtosis:}      &  6.909 & \\textbf{  Cond. No.          } & 4.25e+04  \\\\\n",
       "\\bottomrule\n",
       "\\end{tabular}\n",
       "%\\caption{OLS Regression Results}\n",
       "\\end{center}\n",
       "\n",
       "Notes: \\newline\n",
       " [1] Standard Errors assume that the covariance matrix of the errors is correctly specified. \\newline\n",
       " [2] The condition number is large, 4.25e+04. This might indicate that there are \\newline\n",
       " strong multicollinearity or other numerical problems."
      ],
      "text/plain": [
       "<class 'statsmodels.iolib.summary.Summary'>\n",
       "\"\"\"\n",
       "                              OLS Regression Results                              \n",
       "==================================================================================\n",
       "Dep. Variable:     actual_recovery_amount   R-squared:                       0.281\n",
       "Model:                                OLS   Adj. R-squared:                  0.271\n",
       "Method:                     Least Squares   F-statistic:                     28.48\n",
       "Date:                    Tue, 10 Oct 2023   Prob (F-statistic):           3.61e-11\n",
       "Time:                            11:46:41   Log-Likelihood:                -1043.1\n",
       "No. Observations:                     149   AIC:                             2092.\n",
       "Df Residuals:                         146   BIC:                             2101.\n",
       "Df Model:                               2                                         \n",
       "Covariance Type:                nonrobust                                         \n",
       "============================================================================================\n",
       "                               coef    std err          t      P>|t|      [0.025      0.975]\n",
       "--------------------------------------------------------------------------------------------\n",
       "const                     -468.3862    907.328     -0.516      0.606   -2261.579    1324.807\n",
       "expected_recovery_amount     1.1125      0.929      1.197      0.233      -0.724       2.949\n",
       "indicator_1000             255.3020     84.615      3.017      0.003      88.074     422.530\n",
       "==============================================================================\n",
       "Omnibus:                       59.402   Durbin-Watson:                   1.866\n",
       "Prob(Omnibus):                  0.000   Jarque-Bera (JB):              160.729\n",
       "Skew:                           1.628   Prob(JB):                     1.25e-35\n",
       "Kurtosis:                       6.909   Cond. No.                     4.25e+04\n",
       "==============================================================================\n",
       "\n",
       "Notes:\n",
       "[1] Standard Errors assume that the covariance matrix of the errors is correctly specified.\n",
       "[2] The condition number is large, 4.25e+04. This might indicate that there are\n",
       "strong multicollinearity or other numerical problems.\n",
       "\"\"\""
      ]
     },
     "execution_count": 23,
     "metadata": {},
     "output_type": "execute_result"
    }
   ],
   "source": [
    "exp_rec_amt_950_1050 = data.loc[(data['expected_recovery_amount'] <1100) &\n",
    "                                (data['expected_recovery_amount'] >=950)]\n",
    "# Define X and y\n",
    "\n",
    "X = exp_rec_amt_950_1050[['expected_recovery_amount', 'indicator_1000']]\n",
    "y = exp_rec_amt_950_1050['actual_recovery_amount']\n",
    "X = sm.add_constant(X)\n",
    "\n",
    "# build linear regression model\n",
    "model = sm.OLS(y, X).fit()\n",
    "\n",
    "model.summary()"
   ]
  },
  {
   "cell_type": "code",
   "execution_count": null,
   "id": "0cb38224",
   "metadata": {},
   "outputs": [],
   "source": []
  },
  {
   "cell_type": "code",
   "execution_count": null,
   "id": "631525bf",
   "metadata": {},
   "outputs": [],
   "source": []
  }
 ],
 "metadata": {
  "kernelspec": {
   "display_name": "Python 3 (ipykernel)",
   "language": "python",
   "name": "python3"
  },
  "language_info": {
   "codemirror_mode": {
    "name": "ipython",
    "version": 3
   },
   "file_extension": ".py",
   "mimetype": "text/x-python",
   "name": "python",
   "nbconvert_exporter": "python",
   "pygments_lexer": "ipython3",
   "version": "3.11.1"
  }
 },
 "nbformat": 4,
 "nbformat_minor": 5
}
