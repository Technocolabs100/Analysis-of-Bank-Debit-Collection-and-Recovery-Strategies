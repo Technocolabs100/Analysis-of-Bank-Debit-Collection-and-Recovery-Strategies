{
 "cells": [
  {
   "cell_type": "code",
   "execution_count": 7,
   "id": "5957740f",
   "metadata": {},
   "outputs": [],
   "source": [
    "# import libraries\n",
    "import pandas as pd\n",
    "import numpy as np\n",
    "import matplotlib.pyplot as plt"
   ]
  },
  {
   "cell_type": "code",
   "execution_count": 8,
   "id": "2ca6625a",
   "metadata": {},
   "outputs": [],
   "source": [
    "#read dataset\n",
    "df=pd.read_csv('bank_data.csv')"
   ]
  },
  {
   "cell_type": "code",
   "execution_count": 9,
   "id": "afc7e95a",
   "metadata": {},
   "outputs": [
    {
     "data": {
      "text/html": [
       "<div>\n",
       "<style scoped>\n",
       "    .dataframe tbody tr th:only-of-type {\n",
       "        vertical-align: middle;\n",
       "    }\n",
       "\n",
       "    .dataframe tbody tr th {\n",
       "        vertical-align: top;\n",
       "    }\n",
       "\n",
       "    .dataframe thead th {\n",
       "        text-align: right;\n",
       "    }\n",
       "</style>\n",
       "<table border=\"1\" class=\"dataframe\">\n",
       "  <thead>\n",
       "    <tr style=\"text-align: right;\">\n",
       "      <th></th>\n",
       "      <th>id</th>\n",
       "      <th>expected_recovery_amount</th>\n",
       "      <th>actual_recovery_amount</th>\n",
       "      <th>recovery_strategy</th>\n",
       "      <th>age</th>\n",
       "      <th>sex</th>\n",
       "    </tr>\n",
       "  </thead>\n",
       "  <tbody>\n",
       "    <tr>\n",
       "      <th>0</th>\n",
       "      <td>2030</td>\n",
       "      <td>194</td>\n",
       "      <td>263.540</td>\n",
       "      <td>Level 0 Recovery</td>\n",
       "      <td>19</td>\n",
       "      <td>Male</td>\n",
       "    </tr>\n",
       "    <tr>\n",
       "      <th>1</th>\n",
       "      <td>1150</td>\n",
       "      <td>486</td>\n",
       "      <td>416.090</td>\n",
       "      <td>Level 0 Recovery</td>\n",
       "      <td>25</td>\n",
       "      <td>Female</td>\n",
       "    </tr>\n",
       "    <tr>\n",
       "      <th>2</th>\n",
       "      <td>380</td>\n",
       "      <td>527</td>\n",
       "      <td>429.350</td>\n",
       "      <td>Level 0 Recovery</td>\n",
       "      <td>27</td>\n",
       "      <td>Male</td>\n",
       "    </tr>\n",
       "    <tr>\n",
       "      <th>3</th>\n",
       "      <td>1838</td>\n",
       "      <td>536</td>\n",
       "      <td>296.990</td>\n",
       "      <td>Level 0 Recovery</td>\n",
       "      <td>25</td>\n",
       "      <td>Male</td>\n",
       "    </tr>\n",
       "    <tr>\n",
       "      <th>4</th>\n",
       "      <td>1995</td>\n",
       "      <td>541</td>\n",
       "      <td>346.385</td>\n",
       "      <td>Level 0 Recovery</td>\n",
       "      <td>34</td>\n",
       "      <td>Male</td>\n",
       "    </tr>\n",
       "  </tbody>\n",
       "</table>\n",
       "</div>"
      ],
      "text/plain": [
       "     id  expected_recovery_amount  actual_recovery_amount recovery_strategy  \\\n",
       "0  2030                       194                 263.540  Level 0 Recovery   \n",
       "1  1150                       486                 416.090  Level 0 Recovery   \n",
       "2   380                       527                 429.350  Level 0 Recovery   \n",
       "3  1838                       536                 296.990  Level 0 Recovery   \n",
       "4  1995                       541                 346.385  Level 0 Recovery   \n",
       "\n",
       "   age     sex  \n",
       "0   19    Male  \n",
       "1   25  Female  \n",
       "2   27    Male  \n",
       "3   25    Male  \n",
       "4   34    Male  "
      ]
     },
     "execution_count": 9,
     "metadata": {},
     "output_type": "execute_result"
    }
   ],
   "source": [
    "# Print the first five rows of the DataFrame\n",
    "df.head()"
   ]
  },
  {
   "cell_type": "markdown",
   "id": "e47e693e",
   "metadata": {},
   "source": [
    "# Graphical exploratory data analysis"
   ]
  },
  {
   "cell_type": "markdown",
   "id": "4db95c90",
   "metadata": {},
   "source": [
    "## Age vs. Expected Recovery Amount"
   ]
  },
  {
   "cell_type": "code",
   "execution_count": 10,
   "id": "fc8ce5a7",
   "metadata": {},
   "outputs": [
    {
     "data": {
      "text/plain": [
       "<matplotlib.lines.Line2D at 0xa66eaba7f0>"
      ]
     },
     "execution_count": 10,
     "metadata": {},
     "output_type": "execute_result"
    },
    {
     "data": {
      "image/png": "[encoded data removed]",
      "text/plain": [
       "<Figure size 432x288 with 1 Axes>"
      ]
     },
     "metadata": {
      "needs_background": "light"
     },
     "output_type": "display_data"
    }
   ],
   "source": [
    "plt.scatter(df['expected_recovery_amount'], df['age'], color=\"blue\", marker=\"o\")\n",
    "plt.ylabel(\"Age\")\n",
    "plt.xlabel(\"Expected Recovery Amount\")\n",
    "plt.xlim(0,2000)\n",
    "plt.title(\"Age vs. Expected Recovery Amount (from 0 to 2000 dollars)\")\n",
    "plt.axvline(x = 1000, color =\"red\", linestyle=\"--\", label=\"Threshold\")"
   ]
  },
  {
   "cell_type": "markdown",
   "id": "1c846232",
   "metadata": {},
   "source": [
    "### Carrying out Kruskal-Wallis test"
   ]
  },
  {
   "cell_type": "code",
   "execution_count": 11,
   "id": "165302ef",
   "metadata": {},
   "outputs": [
    {
     "name": "stdout",
     "output_type": "stream",
     "text": [
      "Kruskal-Wallis Statistic: 3.1596647465950647\n",
      "p-value: 0.07547868225791671\n",
      "There is no significant difference in the average age between the two groups\n"
     ]
    }
   ],
   "source": [
    "from scipy.stats import kruskal\n",
    "\n",
    "expected_recovery_amount = np.array(df[\"expected_recovery_amount\"])\n",
    "ages = np.array(df[\"age\"])\n",
    "\n",
    "ages_below_threshold = ages[(expected_recovery_amount >= 900) & (expected_recovery_amount < 1000)]\n",
    "ages_above_threshold = ages[(expected_recovery_amount > 1000) & (expected_recovery_amount <= 1100)]\n",
    "\n",
    "statistic, p_value = kruskal(ages_below_threshold, ages_above_threshold)\n",
    "\n",
    "print(\"Kruskal-Wallis Statistic:\", statistic)\n",
    "print(\"p-value:\", p_value)\n",
    "\n",
    "alpha = 0.05\n",
    "if(p_value <= alpha):\n",
    "  print(\"There is a significant difference in the average age between the two groups\") # Reject H0\n",
    "else:\n",
    "  print(\"There is no significant difference in the average age between the two groups\") # Fail to Reject H0"
   ]
  },
  {
   "cell_type": "markdown",
   "id": "b08cebde",
   "metadata": {},
   "source": [
    "### We conclude that there is no discontinuity in the age at the 1000 threshold"
   ]
  },
  {
   "cell_type": "markdown",
   "id": "615fe9da",
   "metadata": {},
   "source": [
    "## Sex vs. Expected Recovery Amount"
   ]
  },
  {
   "cell_type": "code",
   "execution_count": 12,
   "id": "71b6c1af",
   "metadata": {},
   "outputs": [
    {
     "data": {
      "image/png": "[encoded data removed]",
      "text/plain": [
       "<Figure size 576x432 with 1 Axes>"
      ]
     },
     "metadata": {
      "needs_background": "light"
     },
     "output_type": "display_data"
    }
   ],
   "source": [
    "# Calculate the percentage of males below and above the threshold\n",
    "males_below_threshold = df[(df['expected_recovery_amount'] >= 900) & (df['expected_recovery_amount'] <= 1000) & (df['sex'] == 'Male')]\n",
    "males_above_threshold = df[(df['expected_recovery_amount'] >= 1000) & (df['expected_recovery_amount'] <= 1100) & (df['sex'] == 'Male')]\n",
    "\n",
    "sex_below_threshold = df[(df['expected_recovery_amount'] >= 900) & (df['expected_recovery_amount'] <= 1000)]\n",
    "sex_above_threshold = df[(df['expected_recovery_amount'] >= 1000) & (df['expected_recovery_amount'] <= 1100)]\n",
    "\n",
    "# Calculating percentage of males below and above $1000\n",
    "percentage_below = len(males_below_threshold) / len(sex_below_threshold) * 100\n",
    "percentage_above = len(males_above_threshold) / len(sex_above_threshold) * 100\n",
    "\n",
    "\n",
    "# Plotting\n",
    "plt.figure(figsize=(8, 6))\n",
    "\n",
    "plt.bar(['Below Threshold', 'Above Threshold'], [percentage_below, percentage_above], color=['blue', 'red'])\n",
    "plt.ylabel('Percentage of Males (%)')\n",
    "plt.title('Percentage of Males Below and Above $1000 Threshold')\n",
    "\n",
    "# Add horizontal line at the threshold\n",
    "plt.axhline(y=percentage_below, color='blue', linestyle='--', label='Below Threshold')\n",
    "plt.axhline(y=percentage_above, color='red', linestyle='--', label='Above Threshold')\n",
    "\n",
    "plt.legend()\n",
    "plt.show()"
   ]
  },
  {
   "cell_type": "markdown",
   "id": "40ecd173",
   "metadata": {},
   "source": [
    "### Carrying out Two-sample Proportion test"
   ]
  },
  {
   "cell_type": "code",
   "execution_count": 13,
   "id": "cfc3e4f1",
   "metadata": {},
   "outputs": [
    {
     "name": "stdout",
     "output_type": "stream",
     "text": [
      "Z-Score: 0.7961036157477119\n",
      "p-value: 0.4259718127420584\n",
      "There is no significant difference in the percentage of males below and above the threshold.\n"
     ]
    }
   ],
   "source": [
    "import statsmodels.api as sm\n",
    "\n",
    "# Performing two-sample proportion test\n",
    "z_stat, p_value = sm.stats.proportions_ztest([len(males_below_threshold), len(males_above_threshold)],\n",
    "                                                    [len(sex_below_threshold), len(sex_above_threshold)])\n",
    "print(\"Z-Score:\", z_stat)\n",
    "print(\"p-value:\", p_value)\n",
    "\n",
    "alpha = 0.05\n",
    "if p_value < alpha:\n",
    "    print(\"There is a significant difference in the percentage of males below and above the threshold.\")\n",
    "else:\n",
    "    print(\"There is no significant difference in the percentage of males below and above the threshold.\")"
   ]
  },
  {
   "cell_type": "markdown",
   "id": "d97880cd",
   "metadata": {},
   "source": [
    "### We conclude that there is no discontinuity in the percentage of males at the 1000 threshold"
   ]
  },
  {
   "cell_type": "markdown",
   "id": "c13c6032",
   "metadata": {},
   "source": [
    "## Actual Recovery Amount vs. Expected Recovery Amount"
   ]
  },
  {
   "cell_type": "code",
   "execution_count": 15,
   "id": "11b45ad4",
   "metadata": {},
   "outputs": [
    {
     "data": {
      "text/plain": [
       "Text(0.5, 1.0, 'Actual Recovery Amount vs. Expected Recovery Amount')"
      ]
     },
     "execution_count": 15,
     "metadata": {},
     "output_type": "execute_result"
    },
    {
     "data": {
      "image/png": "[encoded data removed]",
      "text/plain": [
       "<Figure size 504x432 with 1 Axes>"
      ]
     },
     "metadata": {
      "needs_background": "light"
     },
     "output_type": "display_data"
    }
   ],
   "source": [
    "from matplotlib.pyplot import figure\n",
    "fig = figure(figsize=(7,6))\n",
    "ax = fig.add_subplot(1,1,1)\n",
    "ax.scatter(df['expected_recovery_amount'], df['actual_recovery_amount'])\n",
    "ax.set_ylim(0,5000)\n",
    "ax.set_xlim(900, 1100)\n",
    "ax.set_xlabel(\"Expected Recovery Amount\")\n",
    "ax.set_ylabel(\"Actual Recovery Amount\")\n",
    "ax.set_title(\"Actual Recovery Amount vs. Expected Recovery Amount\")"
   ]
  },
  {
   "cell_type": "markdown",
   "id": "4bc2c9fe",
   "metadata": {},
   "source": [
    "### Carrying out Kruskal-Wallis test"
   ]
  },
  {
   "cell_type": "code",
   "execution_count": 18,
   "id": "ad25c099",
   "metadata": {},
   "outputs": [
    {
     "name": "stdout",
     "output_type": "stream",
     "text": [
      "Kruskal-Wallis Statistic for (900 to 1100) range: 67.38392708550032\n",
      "p-value: 2.2346330990871586e-16\n",
      "Kruskal-Wallis Statistic for (950 to 1050) range: 33.0431604938272\n",
      "p-value: 9.013556650854467e-09\n",
      "There is a significant difference in the average of actual recovery amounts below and above the 900 to $1100) range\n",
      "There is a significant difference in the average of actual recovery amounts below and above the 950 to $1050) range\n"
     ]
    }
   ],
   "source": [
    "expected_recovery_amount = np.array(df[\"expected_recovery_amount\"])\n",
    "actual_recovery_amount = np.array(df[\"actual_recovery_amount\"])\n",
    "\n",
    "# Getting actual recovery amounts for the wide range \n",
    "1100\n",
    "actual_below_threshold_wide = actual_recovery_amount[(expected_recovery_amount >= 900) & (expected_recovery_amount < 1000)]\n",
    "actual_above_threshold_wide = actual_recovery_amount[(expected_recovery_amount > 1000) & (expected_recovery_amount <= 1100)]\n",
    "\n",
    "# Getting actual recovery amounts for the narrow range \n",
    "1050\n",
    "actual_below_threshold_narrow = actual_recovery_amount[(expected_recovery_amount >= 950) & (expected_recovery_amount < 1000)]\n",
    "actual_above_threshold_narrow = actual_recovery_amount[(expected_recovery_amount > 1000) & (expected_recovery_amount <= 1050)]\n",
    "\n",
    "statistic_wide, p_value_wide = kruskal(actual_below_threshold_wide, actual_above_threshold_wide)\n",
    "statistic_narrow, p_value_narrow = kruskal(actual_below_threshold_narrow, actual_above_threshold_narrow)\n",
    "\n",
    "print(\"Kruskal-Wallis Statistic for (900 to 1100) range:\", statistic_wide)\n",
    "print(\"p-value:\", p_value_wide)\n",
    "print(\"Kruskal-Wallis Statistic for (950 to 1050) range:\", statistic_narrow)\n",
    "print(\"p-value:\", p_value_narrow)\n",
    "\n",
    "alpha = 0.05\n",
    "\n",
    "if(p_value_wide <= alpha):\n",
    "  print(\"There is a significant difference in the average of actual recovery amounts below and above the 900 to $1100) range\") # Reject H0\n",
    "else:\n",
    "  print(\"There is no significant difference in the average of actual recovery amounts below and above the 900 to $1100) range\") # Fail to Reject H0\n",
    "\n",
    "if(p_value_narrow <= alpha):\n",
    "  print(\"There is a significant difference in the average of actual recovery amounts below and above the 950 to $1050) range\") # Reject H0\n",
    "else:\n",
    "  print(\"There is no significant difference in the average of actual recovery amounts below and above the 950 to $1050) range\") # Fail to Reject H0"
   ]
  },
  {
   "cell_type": "markdown",
   "id": "81dd16f4",
   "metadata": {},
   "source": [
    "### We conclude that there is a discontinuity in the actual recovery amount that is not visible in the scatter plot at the 1000 threshold"
   ]
  },
  {
   "cell_type": "markdown",
   "id": "de48e77d",
   "metadata": {},
   "source": [
    "## Regression Modeling: No threshold"
   ]
  },
  {
   "cell_type": "code",
   "execution_count": 19,
   "id": "3e344f5e",
   "metadata": {},
   "outputs": [
    {
     "name": "stdout",
     "output_type": "stream",
     "text": [
      "\n",
      "Model 1 (With No Indicator for Threshold):\n",
      "                               OLS Regression Results                              \n",
      "==================================================================================\n",
      "Dep. Variable:     actual_recovery_amount   R-squared:                       0.252\n",
      "Model:                                OLS   Adj. R-squared:                  0.247\n",
      "Method:                     Least Squares   F-statistic:                     59.85\n",
      "Date:                    Sat, 07 Oct 2023   Prob (F-statistic):           7.34e-13\n",
      "Time:                            17:05:11   Log-Likelihood:                -1259.4\n",
      "No. Observations:                     180   AIC:                             2523.\n",
      "Df Residuals:                         178   BIC:                             2529.\n",
      "Df Model:                               1                                         \n",
      "Covariance Type:                nonrobust                                         \n",
      "============================================================================================\n",
      "                               coef    std err          t      P>|t|      [0.025      0.975]\n",
      "--------------------------------------------------------------------------------------------\n",
      "const                    -1996.8813    361.866     -5.518      0.000   -2710.981   -1282.781\n",
      "expected_recovery_amount     2.7752      0.359      7.736      0.000       2.067       3.483\n",
      "==============================================================================\n",
      "Omnibus:                       62.774   Durbin-Watson:                   1.769\n",
      "Prob(Omnibus):                  0.000   Jarque-Bera (JB):              175.592\n",
      "Skew:                           1.455   Prob(JB):                     7.42e-39\n",
      "Kurtosis:                       6.866   Cond. No.                     1.84e+04\n",
      "==============================================================================\n",
      "\n",
      "Notes:\n",
      "[1] Standard Errors assume that the covariance matrix of the errors is correctly specified.\n",
      "[2] The condition number is large, 1.84e+04. This might indicate that there are\n",
      "strong multicollinearity or other numerical problems.\n"
     ]
    }
   ],
   "source": [
    "import statsmodels.api as sm\n",
    "\n",
    "# Model 1: Without a threshold\n",
    "# Chossing the expected recovery amounts between \n",
    "1100\n",
    "era_900_1100 = df[(df['expected_recovery_amount'] > 900) & (df['expected_recovery_amount'] < 1100)]\n",
    "X = era_900_1100['expected_recovery_amount']\n",
    "y = era_900_1100['actual_recovery_amount']\n",
    "\n",
    "X = sm.add_constant(X)  # Adding a constant term (intercept)\n",
    "\n",
    "model1 = sm.OLS(y, X).fit()  # Ordinary Least Squares regression\n",
    "print(\"\\nModel 1 (With No Indicator for Threshold):\\n\", model1.summary())\n"
   ]
  },
  {
   "cell_type": "markdown",
   "id": "48273301",
   "metadata": {},
   "source": [
    "## Regression Modeling: True threshold"
   ]
  },
  {
   "cell_type": "code",
   "execution_count": 20,
   "id": "04aa4b8a",
   "metadata": {},
   "outputs": [
    {
     "name": "stderr",
     "output_type": "stream",
     "text": [
      "<ipython-input-20-e058a3d6c3e6>:3: SettingWithCopyWarning: \n",
      "A value is trying to be set on a copy of a slice from a DataFrame.\n",
      "Try using .loc[row_indexer,col_indexer] = value instead\n",
      "\n",
      "See the caveats in the documentation: https://pandas.pydata.org/pandas-docs/stable/user_guide/indexing.html#returning-a-view-versus-a-copy\n",
      "  era_900_1100['above_threshold'] = (era_900_1100['expected_recovery_amount'] >= 1000).astype(int)\n"
     ]
    },
    {
     "name": "stdout",
     "output_type": "stream",
     "text": [
      "\n",
      "Model 2 (With Indicator for Threshold):\n",
      "                               OLS Regression Results                              \n",
      "==================================================================================\n",
      "Dep. Variable:     actual_recovery_amount   R-squared:                       0.306\n",
      "Model:                                OLS   Adj. R-squared:                  0.298\n",
      "Method:                     Least Squares   F-statistic:                     39.05\n",
      "Date:                    Sat, 07 Oct 2023   Prob (F-statistic):           8.95e-15\n",
      "Time:                            17:06:06   Log-Likelihood:                -1252.6\n",
      "No. Observations:                     180   AIC:                             2511.\n",
      "Df Residuals:                         177   BIC:                             2521.\n",
      "Df Model:                               2                                         \n",
      "Covariance Type:                nonrobust                                         \n",
      "============================================================================================\n",
      "                               coef    std err          t      P>|t|      [0.025      0.975]\n",
      "--------------------------------------------------------------------------------------------\n",
      "const                       61.5437    653.172      0.094      0.925   -1227.463    1350.550\n",
      "expected_recovery_amount     0.5840      0.682      0.856      0.393      -0.762       1.930\n",
      "above_threshold            281.5309     75.477      3.730      0.000     132.580     430.482\n",
      "==============================================================================\n",
      "Omnibus:                       63.949   Durbin-Watson:                   1.898\n",
      "Prob(Omnibus):                  0.000   Jarque-Bera (JB):              175.962\n",
      "Skew:                           1.494   Prob(JB):                     6.17e-39\n",
      "Kurtosis:                       6.813   Cond. No.                     3.46e+04\n",
      "==============================================================================\n",
      "\n",
      "Notes:\n",
      "[1] Standard Errors assume that the covariance matrix of the errors is correctly specified.\n",
      "[2] The condition number is large, 3.46e+04. This might indicate that there are\n",
      "strong multicollinearity or other numerical problems.\n"
     ]
    }
   ],
   "source": [
    "# Model 2: With indicator for the threshold\n",
    "# Adding indicator variable for the threshold (1000)\n",
    "era_900_1100['above_threshold'] = (era_900_1100['expected_recovery_amount'] >= 1000).astype(int)\n",
    "\n",
    "X2 = era_900_1100[['expected_recovery_amount', 'above_threshold']]\n",
    "X2 = sm.add_constant(X2)  # Adding a constant term (intercept)\n",
    "\n",
    "model2 = sm.OLS(y, X2).fit()  # Ordinary Least Squares regression\n",
    "print(\"\\nModel 2 (With Indicator for Threshold):\\n\", model2.summary())"
   ]
  },
  {
   "cell_type": "markdown",
   "id": "233e4564",
   "metadata": {},
   "source": [
    "## Repeating the analysis for the window of expected recovery amount from 950 to 1050 dollars"
   ]
  },
  {
   "cell_type": "code",
   "execution_count": 21,
   "id": "b5b81df1",
   "metadata": {},
   "outputs": [
    {
     "name": "stdout",
     "output_type": "stream",
     "text": [
      "\n",
      "Model 1 (With No Indicator for Threshold):\n",
      "                               OLS Regression Results                              \n",
      "==================================================================================\n",
      "Dep. Variable:     actual_recovery_amount   R-squared:                       0.247\n",
      "Model:                                OLS   Adj. R-squared:                  0.240\n",
      "Method:                     Least Squares   F-statistic:                     31.55\n",
      "Date:                    Sat, 07 Oct 2023   Prob (F-statistic):           1.89e-07\n",
      "Time:                            17:06:56   Log-Likelihood:                -688.75\n",
      "No. Observations:                      98   AIC:                             1382.\n",
      "Df Residuals:                          96   BIC:                             1387.\n",
      "Df Model:                               1                                         \n",
      "Covariance Type:                nonrobust                                         \n",
      "============================================================================================\n",
      "                               coef    std err          t      P>|t|      [0.025      0.975]\n",
      "--------------------------------------------------------------------------------------------\n",
      "const                    -4603.7516    957.508     -4.808      0.000   -6504.390   -2703.113\n",
      "expected_recovery_amount     5.3731      0.957      5.617      0.000       3.474       7.272\n",
      "==============================================================================\n",
      "Omnibus:                       45.753   Durbin-Watson:                   1.864\n",
      "Prob(Omnibus):                  0.000   Jarque-Bera (JB):              116.922\n",
      "Skew:                           1.730   Prob(JB):                     4.08e-26\n",
      "Kurtosis:                       7.081   Cond. No.                     3.44e+04\n",
      "==============================================================================\n",
      "\n",
      "Notes:\n",
      "[1] Standard Errors assume that the covariance matrix of the errors is correctly specified.\n",
      "[2] The condition number is large, 3.44e+04. This might indicate that there are\n",
      "strong multicollinearity or other numerical problems.\n",
      "\n",
      "Model 2 (With Indicator for Threshold):\n",
      "                               OLS Regression Results                              \n",
      "==================================================================================\n",
      "Dep. Variable:     actual_recovery_amount   R-squared:                       0.292\n",
      "Model:                                OLS   Adj. R-squared:                  0.277\n",
      "Method:                     Least Squares   F-statistic:                     19.56\n",
      "Date:                    Sat, 07 Oct 2023   Prob (F-statistic):           7.69e-08\n",
      "Time:                            17:06:57   Log-Likelihood:                -685.78\n",
      "No. Observations:                      98   AIC:                             1378.\n",
      "Df Residuals:                          95   BIC:                             1385.\n",
      "Df Model:                               2                                         \n",
      "Covariance Type:                nonrobust                                         \n",
      "============================================================================================\n",
      "                               coef    std err          t      P>|t|      [0.025      0.975]\n",
      "--------------------------------------------------------------------------------------------\n",
      "const                     -625.8515   1879.853     -0.333      0.740   -4357.832    3106.129\n",
      "expected_recovery_amount     1.2690      1.925      0.659      0.511      -2.552       5.090\n",
      "above_threshold            273.7768    112.290      2.438      0.017      50.853     496.701\n",
      "==============================================================================\n",
      "Omnibus:                       40.267   Durbin-Watson:                   1.963\n",
      "Prob(Omnibus):                  0.000   Jarque-Bera (JB):               86.870\n",
      "Skew:                           1.599   Prob(JB):                     1.37e-19\n",
      "Kurtosis:                       6.324   Cond. No.                     6.94e+04\n",
      "==============================================================================\n",
      "\n",
      "Notes:\n",
      "[1] Standard Errors assume that the covariance matrix of the errors is correctly specified.\n",
      "[2] The condition number is large, 6.94e+04. This might indicate that there are\n",
      "strong multicollinearity or other numerical problems.\n"
     ]
    },
    {
     "name": "stderr",
     "output_type": "stream",
     "text": [
      "<ipython-input-21-9ff2e1c2c646>:11: SettingWithCopyWarning: \n",
      "A value is trying to be set on a copy of a slice from a DataFrame.\n",
      "Try using .loc[row_indexer,col_indexer] = value instead\n",
      "\n",
      "See the caveats in the documentation: https://pandas.pydata.org/pandas-docs/stable/user_guide/indexing.html#returning-a-view-versus-a-copy\n",
      "  era_950_1050['above_threshold'] = (era_950_1050['expected_recovery_amount'] >= 1000).astype(int)\n"
     ]
    }
   ],
   "source": [
    "era_950_1050 = df[(df['expected_recovery_amount'] > 950) & (df['expected_recovery_amount'] <= 1050)]\n",
    "\n",
    "# Model 1: Without a threshold\n",
    "X = era_950_1050['expected_recovery_amount']\n",
    "y = era_950_1050['actual_recovery_amount']\n",
    "X = sm.add_constant(X)\n",
    "model1 = sm.OLS(y, X).fit()\n",
    "print(\"\\nModel 1 (With No Indicator for Threshold):\\n\", model1.summary())\n",
    "\n",
    "# Model 2: With a threshold\n",
    "era_950_1050['above_threshold'] = (era_950_1050['expected_recovery_amount'] >= 1000).astype(int)\n",
    "X2 = era_950_1050[['expected_recovery_amount', 'above_threshold']]\n",
    "X2 = sm.add_constant(X2)\n",
    "model2 = sm.OLS(y, X2).fit()\n",
    "print(\"\\nModel 2 (With Indicator for Threshold):\\n\", model2.summary())"
   ]
  },
  {
   "cell_type": "code",
   "execution_count": null,
   "id": "2e4539e5",
   "metadata": {},
   "outputs": [],
   "source": []
  }
 ],
 "metadata": {
  "kernelspec": {
   "display_name": "Python 3",
   "language": "python",
   "name": "python3"
  },
  "language_info": {
   "codemirror_mode": {
    "name": "ipython",
    "version": 3
   },
   "file_extension": ".py",
   "mimetype": "text/x-python",
   "name": "python",
   "nbconvert_exporter": "python",
   "pygments_lexer": "ipython3",
   "version": "3.8.8"
  }
 },
 "nbformat": 4,
 "nbformat_minor": 5
}
